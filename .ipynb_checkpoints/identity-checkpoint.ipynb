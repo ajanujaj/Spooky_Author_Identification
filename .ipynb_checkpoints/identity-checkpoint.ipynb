{
 "cells": [
  {
   "cell_type": "code",
   "execution_count": 64,
   "metadata": {},
   "outputs": [],
   "source": [
    "import pandas as pd\n",
    "import numpy as np\n",
    "import matplotlib.pyplot as plt\n",
    "import xgboost as xgb\n",
    "from sklearn.feature_extraction.text import CountVectorizer, TfidfVectorizer,TfidfTransformer\n",
    "from sklearn.preprocessing import LabelEncoder\n",
    "from sklearn.model_selection import train_test_split\n",
    "from sklearn.linear_model import LogisticRegression\n",
    "from sklearn.metrics import mean_squared_error,classification_report,confusion_matrix\n",
    "from sklearn.model_selection import GridSearchCV"
   ]
  },
  {
   "cell_type": "markdown",
   "metadata": {},
   "source": [
    "# Using TF-IDF"
   ]
  },
  {
   "cell_type": "markdown",
   "metadata": {},
   "source": [
    "$$\n",
    "TF = \\frac{{\\text{{number of instances of a word in a document}}}}{{\\text{{total number of words in a document}}}}\n",
    "$$\n",
    "\n",
    "\n",
    "$$\n",
    "IDF = log \\frac{{\\text{{total number of documents (N) in text corpus D}}}}{{\\text{{number of documents containg w}}}}\n",
    "$$"
   ]
  },
  {
   "cell_type": "code",
   "execution_count": 2,
   "metadata": {},
   "outputs": [],
   "source": [
    "df = pd.read_csv('Dataset/train.csv')"
   ]
  },
  {
   "cell_type": "code",
   "execution_count": 3,
   "metadata": {},
   "outputs": [
    {
     "data": {
      "text/html": [
       "<div>\n",
       "<style scoped>\n",
       "    .dataframe tbody tr th:only-of-type {\n",
       "        vertical-align: middle;\n",
       "    }\n",
       "\n",
       "    .dataframe tbody tr th {\n",
       "        vertical-align: top;\n",
       "    }\n",
       "\n",
       "    .dataframe thead th {\n",
       "        text-align: right;\n",
       "    }\n",
       "</style>\n",
       "<table border=\"1\" class=\"dataframe\">\n",
       "  <thead>\n",
       "    <tr style=\"text-align: right;\">\n",
       "      <th></th>\n",
       "      <th>id</th>\n",
       "      <th>text</th>\n",
       "      <th>author</th>\n",
       "    </tr>\n",
       "  </thead>\n",
       "  <tbody>\n",
       "    <tr>\n",
       "      <th>0</th>\n",
       "      <td>id26305</td>\n",
       "      <td>This process, however, afforded me no means of...</td>\n",
       "      <td>EAP</td>\n",
       "    </tr>\n",
       "    <tr>\n",
       "      <th>1</th>\n",
       "      <td>id17569</td>\n",
       "      <td>It never once occurred to me that the fumbling...</td>\n",
       "      <td>HPL</td>\n",
       "    </tr>\n",
       "    <tr>\n",
       "      <th>2</th>\n",
       "      <td>id11008</td>\n",
       "      <td>In his left hand was a gold snuff box, from wh...</td>\n",
       "      <td>EAP</td>\n",
       "    </tr>\n",
       "    <tr>\n",
       "      <th>3</th>\n",
       "      <td>id27763</td>\n",
       "      <td>How lovely is spring As we looked from Windsor...</td>\n",
       "      <td>MWS</td>\n",
       "    </tr>\n",
       "    <tr>\n",
       "      <th>4</th>\n",
       "      <td>id12958</td>\n",
       "      <td>Finding nothing else, not even gold, the Super...</td>\n",
       "      <td>HPL</td>\n",
       "    </tr>\n",
       "    <tr>\n",
       "      <th>...</th>\n",
       "      <td>...</td>\n",
       "      <td>...</td>\n",
       "      <td>...</td>\n",
       "    </tr>\n",
       "    <tr>\n",
       "      <th>19574</th>\n",
       "      <td>id17718</td>\n",
       "      <td>I could have fancied, while I looked at it, th...</td>\n",
       "      <td>EAP</td>\n",
       "    </tr>\n",
       "    <tr>\n",
       "      <th>19575</th>\n",
       "      <td>id08973</td>\n",
       "      <td>The lids clenched themselves together as if in...</td>\n",
       "      <td>EAP</td>\n",
       "    </tr>\n",
       "    <tr>\n",
       "      <th>19576</th>\n",
       "      <td>id05267</td>\n",
       "      <td>Mais il faut agir that is to say, a Frenchman ...</td>\n",
       "      <td>EAP</td>\n",
       "    </tr>\n",
       "    <tr>\n",
       "      <th>19577</th>\n",
       "      <td>id17513</td>\n",
       "      <td>For an item of news like this, it strikes us i...</td>\n",
       "      <td>EAP</td>\n",
       "    </tr>\n",
       "    <tr>\n",
       "      <th>19578</th>\n",
       "      <td>id00393</td>\n",
       "      <td>He laid a gnarled claw on my shoulder, and it ...</td>\n",
       "      <td>HPL</td>\n",
       "    </tr>\n",
       "  </tbody>\n",
       "</table>\n",
       "<p>19579 rows × 3 columns</p>\n",
       "</div>"
      ],
      "text/plain": [
       "            id                                               text author\n",
       "0      id26305  This process, however, afforded me no means of...    EAP\n",
       "1      id17569  It never once occurred to me that the fumbling...    HPL\n",
       "2      id11008  In his left hand was a gold snuff box, from wh...    EAP\n",
       "3      id27763  How lovely is spring As we looked from Windsor...    MWS\n",
       "4      id12958  Finding nothing else, not even gold, the Super...    HPL\n",
       "...        ...                                                ...    ...\n",
       "19574  id17718  I could have fancied, while I looked at it, th...    EAP\n",
       "19575  id08973  The lids clenched themselves together as if in...    EAP\n",
       "19576  id05267  Mais il faut agir that is to say, a Frenchman ...    EAP\n",
       "19577  id17513  For an item of news like this, it strikes us i...    EAP\n",
       "19578  id00393  He laid a gnarled claw on my shoulder, and it ...    HPL\n",
       "\n",
       "[19579 rows x 3 columns]"
      ]
     },
     "execution_count": 3,
     "metadata": {},
     "output_type": "execute_result"
    }
   ],
   "source": [
    "df"
   ]
  },
  {
   "cell_type": "code",
   "execution_count": 4,
   "metadata": {},
   "outputs": [],
   "source": [
    "lbl_enc = LabelEncoder()\n",
    "y = lbl_enc.fit_transform(df['author'])"
   ]
  },
  {
   "cell_type": "code",
   "execution_count": 5,
   "metadata": {},
   "outputs": [
    {
     "data": {
      "text/plain": [
       "array([0, 1, 2])"
      ]
     },
     "execution_count": 5,
     "metadata": {},
     "output_type": "execute_result"
    }
   ],
   "source": [
    "np.unique(y)"
   ]
  },
  {
   "cell_type": "code",
   "execution_count": 6,
   "metadata": {},
   "outputs": [],
   "source": [
    "## This stratify parameter makes a split so that the proportion of values in the sample produced will be the same as the proportion of values\n",
    "x_train,x_val, y_train,y_val = train_test_split(df['text'],y,stratify=y,test_size=0.1,shuffle=True)"
   ]
  },
  {
   "cell_type": "code",
   "execution_count": 7,
   "metadata": {},
   "outputs": [
    {
     "name": "stdout",
     "output_type": "stream",
     "text": [
      "(17621,)\n",
      "(1958,)\n"
     ]
    }
   ],
   "source": [
    "print(x_train.shape)\n",
    "print(x_val.shape)"
   ]
  },
  {
   "cell_type": "markdown",
   "metadata": {},
   "source": [
    "`CountVectorizer`, `TfidfVectorizer`, and `TfidfTransformer` are all tools commonly used in natural language processing (NLP) pipelines, but they serve slightly different purposes. Here's how they can be used together or standalone:\n",
    "\n",
    "1. **CountVectorizer**:\n",
    "   - Standalone: CountVectorizer is used to convert a collection of text documents into a matrix of token counts, where each row represents a document and each column represents a word, with each cell indicating the count of the corresponding word in the document.\n",
    "   - Together: CountVectorizer can be used as the initial step in preprocessing text data, followed by using either `TfidfTransformer` or `TfidfVectorizer` to convert the count matrix into a TF-IDF (Term Frequency-Inverse Document Frequency) weighted representation.\n",
    "\n",
    "2. **TfidfVectorizer**:\n",
    "   - Standalone: TfidfVectorizer combines the functionality of CountVectorizer and TfidfTransformer into a single step. It first tokenizes the text and counts occurrences of each token like CountVectorizer, then it transforms the count matrix into a TF-IDF representation like TfidfTransformer.\n",
    "   - Together: TfidfVectorizer can be used as a replacement for CountVectorizer and TfidfTransformer together, simplifying the preprocessing pipeline.\n",
    "\n",
    "3. **TfidfTransformer**:\n",
    "   - Standalone: TfidfTransformer is used to transform a count matrix (obtained from CountVectorizer or similar methods) into a TF-IDF representation. It weighs the importance of each word in the document relative to the entire corpus.\n",
    "   - Together: TfidfTransformer is typically used after CountVectorizer to convert the count matrix into a TF-IDF representation.\n",
    "\n",
    "In summary, here's how they can be used:\n",
    "- **CountVectorizer**: Converts text into a count matrix.\n",
    "- **TfidfVectorizer**: Combines CountVectorizer and TfidfTransformer into one step, producing a TF-IDF representation directly from raw text.\n",
    "- **TfidfTransformer**: Converts a count matrix into a TF-IDF representation, typically used after CountVectorizer. \n",
    "\n",
    "You can choose to use them standalone or in combination based on the specific requirements and complexity of your NLP task. If you need a simple preprocessing pipeline, you can use `TfidfVectorizer`. If you need more control over the preprocessing steps, you can use `CountVectorizer` followed by `TfidfTransformer`."
   ]
  },
  {
   "cell_type": "code",
   "execution_count": 8,
   "metadata": {},
   "outputs": [],
   "source": [
    "tfb = TfidfVectorizer(min_df=3,max_features=None,strip_accents='unicode',analyzer='word',token_pattern=r'\\w{1,}',\n",
    "                      ngram_range=(1,5),use_idf=True,smooth_idf=True,sublinear_tf=True,stop_words='english')\n",
    "\n",
    "tfb.fit(list(x_train)+list(x_val))\n",
    "x_train_tfb = tfb.transform(x_train)\n",
    "x_val_tfb = tfb.transform(x_val)"
   ]
  },
  {
   "cell_type": "code",
   "execution_count": 9,
   "metadata": {},
   "outputs": [],
   "source": [
    "def final_result(y_pred_prob,y_pred,x_val,y_val):\n",
    "    print(y_val)\n",
    "    mse_loss = mean_squared_error(y_pred,y_val)\n",
    "    print(f'MSE loss: {mse_loss}')\n",
    "    print(classification_report(y_val, y_pred, target_names=['0', '1','2']))\n",
    "    table_submis = pd.DataFrame(y_pred_prob, columns=['EAP', 'MWS', 'HPL'])\n",
    "    table_submis['id'] = df.loc[x_val.index,'id'].values\n",
    "    table_submis = table_submis[['id','EAP','HPL','MWS']]\n",
    "\n",
    "    result_df = pd.DataFrame({'Index': df.loc[x_val.index,'id'],'text':x_val, 'Predicted Label': lbl_enc.inverse_transform(y_pred), 'Actual Label': lbl_enc.inverse_transform(y_val)})\n",
    "    return table_submis, result_df\n"
   ]
  },
  {
   "cell_type": "code",
   "execution_count": 10,
   "metadata": {},
   "outputs": [],
   "source": [
    "### Logistic Regression\n",
    "\n",
    "lg = LogisticRegression()\n",
    "lg.fit(x_train_tfb,y_train)\n",
    "y_pred = lg.predict(x_val_tfb)\n",
    "y_pred_proba = lg.predict_proba(x_val_tfb)\n"
   ]
  },
  {
   "cell_type": "code",
   "execution_count": 11,
   "metadata": {},
   "outputs": [
    {
     "name": "stdout",
     "output_type": "stream",
     "text": [
      "[2 2 0 ... 0 2 1]\n",
      "MSE loss: 0.47191011235955055\n",
      "              precision    recall  f1-score   support\n",
      "\n",
      "           0       0.76      0.85      0.80       790\n",
      "           1       0.82      0.76      0.79       564\n",
      "           2       0.82      0.76      0.79       604\n",
      "\n",
      "    accuracy                           0.79      1958\n",
      "   macro avg       0.80      0.79      0.79      1958\n",
      "weighted avg       0.80      0.79      0.79      1958\n",
      "\n",
      "           id       EAP       HPL       MWS\n",
      "0     id23685  0.208559  0.728866  0.062575\n",
      "1     id26536  0.394823  0.344098  0.261079\n",
      "2     id26649  0.328094  0.175039  0.496867\n",
      "3     id26257  0.218732  0.172180  0.609089\n",
      "4     id05705  0.106851  0.072650  0.820499\n",
      "...       ...       ...       ...       ...\n",
      "1953  id09426  0.176599  0.040912  0.782489\n",
      "1954  id18847  0.215009  0.211455  0.573536\n",
      "1955  id13073  0.321168  0.418496  0.260336\n",
      "1956  id18380  0.317712  0.515315  0.166973\n",
      "1957  id17927  0.380528  0.178532  0.440940\n",
      "\n",
      "[1958 rows x 4 columns]\n"
     ]
    }
   ],
   "source": [
    "table_submis, result_df = final_result(y_pred_proba,y_pred,x_val,y_val)\n",
    "print(table_submis)"
   ]
  },
  {
   "cell_type": "code",
   "execution_count": 12,
   "metadata": {},
   "outputs": [
    {
     "name": "stdout",
     "output_type": "stream",
     "text": [
      "         Index                                               text  \\\n",
      "16030  id23685                           But I am content to die.   \n",
      "9889   id26536  Even now my blood boils at the recollection of...   \n",
      "13927  id26649        There was, I knew, not a second to be lost.   \n",
      "1098   id26257  And I viewed by moonlight the sparkling sea, t...   \n",
      "7274   id05705  Swarthy and sinister were most of the stranger...   \n",
      "...        ...                                                ...   \n",
      "5554   id09426  He was the nineteenth Baron of a line whose be...   \n",
      "3612   id18847  Sleep came not near my couch while the hours w...   \n",
      "11490  id13073  But compared with her friend she is as a rush ...   \n",
      "15983  id18380  Locked in his embrace, she spoke thus, and cas...   \n",
      "4374   id17927  They say, too, that the fierce aurora comes of...   \n",
      "\n",
      "      Predicted Label Actual Label  \n",
      "16030             MWS          MWS  \n",
      "9889              EAP          MWS  \n",
      "13927             HPL          EAP  \n",
      "1098              HPL          HPL  \n",
      "7274              HPL          HPL  \n",
      "...               ...          ...  \n",
      "5554              HPL          HPL  \n",
      "3612              HPL          EAP  \n",
      "11490             MWS          EAP  \n",
      "15983             MWS          MWS  \n",
      "4374              HPL          HPL  \n",
      "\n",
      "[1958 rows x 4 columns]\n"
     ]
    }
   ],
   "source": [
    "print(result_df)"
   ]
  },
  {
   "cell_type": "code",
   "execution_count": 13,
   "metadata": {},
   "outputs": [],
   "source": [
    "\n",
    "\n",
    "xb = xgb.XGBClassifier()\n",
    "\n",
    "xb.fit(x_train_tfb,y_train)\n",
    "y_pred_prob = xb.predict_proba(x_val_tfb)\n",
    "y_pred = xb.predict(x_val_tfb)\n"
   ]
  },
  {
   "cell_type": "code",
   "execution_count": 14,
   "metadata": {},
   "outputs": [
    {
     "name": "stdout",
     "output_type": "stream",
     "text": [
      "[2 2 0 ... 0 2 1]\n",
      "MSE loss: 0.7691521961184883\n",
      "              precision    recall  f1-score   support\n",
      "\n",
      "           0       0.61      0.86      0.71       790\n",
      "           1       0.79      0.58      0.67       564\n",
      "           2       0.78      0.55      0.64       604\n",
      "\n",
      "    accuracy                           0.68      1958\n",
      "   macro avg       0.73      0.66      0.68      1958\n",
      "weighted avg       0.71      0.68      0.68      1958\n",
      "\n",
      "           id       EAP       HPL       MWS\n",
      "0     id23685  0.208559  0.728866  0.062575\n",
      "1     id26536  0.394823  0.344098  0.261079\n",
      "2     id26649  0.328094  0.175039  0.496867\n",
      "3     id26257  0.218732  0.172180  0.609089\n",
      "4     id05705  0.106851  0.072650  0.820499\n",
      "...       ...       ...       ...       ...\n",
      "1953  id09426  0.176599  0.040912  0.782489\n",
      "1954  id18847  0.215009  0.211455  0.573536\n",
      "1955  id13073  0.321168  0.418496  0.260336\n",
      "1956  id18380  0.317712  0.515315  0.166973\n",
      "1957  id17927  0.380528  0.178532  0.440940\n",
      "\n",
      "[1958 rows x 4 columns]\n"
     ]
    }
   ],
   "source": [
    "table_submis, result_df = final_result(y_pred_proba,y_pred,x_val,y_val)\n",
    "print(table_submis)\n"
   ]
  },
  {
   "cell_type": "code",
   "execution_count": 15,
   "metadata": {},
   "outputs": [
    {
     "name": "stdout",
     "output_type": "stream",
     "text": [
      "         Index                                               text  \\\n",
      "16030  id23685                           But I am content to die.   \n",
      "9889   id26536  Even now my blood boils at the recollection of...   \n",
      "13927  id26649        There was, I knew, not a second to be lost.   \n",
      "1098   id26257  And I viewed by moonlight the sparkling sea, t...   \n",
      "7274   id05705  Swarthy and sinister were most of the stranger...   \n",
      "...        ...                                                ...   \n",
      "5554   id09426  He was the nineteenth Baron of a line whose be...   \n",
      "3612   id18847  Sleep came not near my couch while the hours w...   \n",
      "11490  id13073  But compared with her friend she is as a rush ...   \n",
      "15983  id18380  Locked in his embrace, she spoke thus, and cas...   \n",
      "4374   id17927  They say, too, that the fierce aurora comes of...   \n",
      "\n",
      "      Predicted Label Actual Label  \n",
      "16030             MWS          MWS  \n",
      "9889              EAP          MWS  \n",
      "13927             EAP          EAP  \n",
      "1098              EAP          HPL  \n",
      "7274              HPL          HPL  \n",
      "...               ...          ...  \n",
      "5554              EAP          HPL  \n",
      "3612              HPL          EAP  \n",
      "11490             EAP          EAP  \n",
      "15983             EAP          MWS  \n",
      "4374              MWS          HPL  \n",
      "\n",
      "[1958 rows x 4 columns]\n"
     ]
    }
   ],
   "source": [
    "\n",
    "print(result_df)\n"
   ]
  },
  {
   "cell_type": "code",
   "execution_count": 16,
   "metadata": {},
   "outputs": [],
   "source": [
    "test = pd.read_csv('Dataset/test.csv')"
   ]
  },
  {
   "cell_type": "code",
   "execution_count": 17,
   "metadata": {},
   "outputs": [],
   "source": [
    "### Unseen data\n",
    "x_test = test['text']\n",
    "x_test_tfb = tfb.transform(test['text'])\n"
   ]
  },
  {
   "cell_type": "code",
   "execution_count": 18,
   "metadata": {},
   "outputs": [],
   "source": [
    "y_pred = lg.predict(x_test_tfb)\n",
    "y_pred_proba = lg.predict_proba(x_test_tfb)"
   ]
  },
  {
   "cell_type": "code",
   "execution_count": 19,
   "metadata": {},
   "outputs": [
    {
     "data": {
      "text/plain": [
       "(8392, 3)"
      ]
     },
     "execution_count": 19,
     "metadata": {},
     "output_type": "execute_result"
    }
   ],
   "source": [
    "y_pred_proba.shape"
   ]
  },
  {
   "cell_type": "code",
   "execution_count": 20,
   "metadata": {},
   "outputs": [],
   "source": [
    "def unseen_final_result(y_pred_prob,y_pred,x_test):\n",
    "    table_submis = pd.DataFrame(y_pred_prob, columns=['EAP', 'MWS', 'HPL'])\n",
    "    table_submis['id'] = test.loc[x_test.index,'id'].values\n",
    "    table_submis = table_submis[['id','EAP','HPL','MWS']]\n",
    "\n",
    "    result_df = pd.DataFrame({'Index': test.loc[x_test.index,'id'],'text':x_test, 'Predicted Label': lbl_enc.inverse_transform(y_pred)})\n",
    "\n",
    "    return table_submis, result_df"
   ]
  },
  {
   "cell_type": "code",
   "execution_count": 21,
   "metadata": {},
   "outputs": [],
   "source": [
    "table_submis, result_df = unseen_final_result(y_pred_proba,y_pred,x_test)"
   ]
  },
  {
   "cell_type": "code",
   "execution_count": 22,
   "metadata": {},
   "outputs": [
    {
     "data": {
      "text/html": [
       "<div>\n",
       "<style scoped>\n",
       "    .dataframe tbody tr th:only-of-type {\n",
       "        vertical-align: middle;\n",
       "    }\n",
       "\n",
       "    .dataframe tbody tr th {\n",
       "        vertical-align: top;\n",
       "    }\n",
       "\n",
       "    .dataframe thead th {\n",
       "        text-align: right;\n",
       "    }\n",
       "</style>\n",
       "<table border=\"1\" class=\"dataframe\">\n",
       "  <thead>\n",
       "    <tr style=\"text-align: right;\">\n",
       "      <th></th>\n",
       "      <th>Index</th>\n",
       "      <th>text</th>\n",
       "      <th>Predicted Label</th>\n",
       "    </tr>\n",
       "  </thead>\n",
       "  <tbody>\n",
       "    <tr>\n",
       "      <th>0</th>\n",
       "      <td>id02310</td>\n",
       "      <td>Still, as I urged our leaving Ireland with suc...</td>\n",
       "      <td>MWS</td>\n",
       "    </tr>\n",
       "    <tr>\n",
       "      <th>1</th>\n",
       "      <td>id24541</td>\n",
       "      <td>If a fire wanted fanning, it could readily be ...</td>\n",
       "      <td>EAP</td>\n",
       "    </tr>\n",
       "    <tr>\n",
       "      <th>2</th>\n",
       "      <td>id00134</td>\n",
       "      <td>And when they had broken down the frail door t...</td>\n",
       "      <td>HPL</td>\n",
       "    </tr>\n",
       "    <tr>\n",
       "      <th>3</th>\n",
       "      <td>id27757</td>\n",
       "      <td>While I was thinking how I should possibly man...</td>\n",
       "      <td>EAP</td>\n",
       "    </tr>\n",
       "    <tr>\n",
       "      <th>4</th>\n",
       "      <td>id04081</td>\n",
       "      <td>I am not sure to what limit his knowledge may ...</td>\n",
       "      <td>EAP</td>\n",
       "    </tr>\n",
       "    <tr>\n",
       "      <th>...</th>\n",
       "      <td>...</td>\n",
       "      <td>...</td>\n",
       "      <td>...</td>\n",
       "    </tr>\n",
       "    <tr>\n",
       "      <th>8387</th>\n",
       "      <td>id11749</td>\n",
       "      <td>All this is now the fitter for my purpose.</td>\n",
       "      <td>EAP</td>\n",
       "    </tr>\n",
       "    <tr>\n",
       "      <th>8388</th>\n",
       "      <td>id10526</td>\n",
       "      <td>I fixed myself on a wide solitude.</td>\n",
       "      <td>MWS</td>\n",
       "    </tr>\n",
       "    <tr>\n",
       "      <th>8389</th>\n",
       "      <td>id13477</td>\n",
       "      <td>It is easily understood that what might improv...</td>\n",
       "      <td>EAP</td>\n",
       "    </tr>\n",
       "    <tr>\n",
       "      <th>8390</th>\n",
       "      <td>id13761</td>\n",
       "      <td>Be this as it may, I now began to feel the ins...</td>\n",
       "      <td>MWS</td>\n",
       "    </tr>\n",
       "    <tr>\n",
       "      <th>8391</th>\n",
       "      <td>id04282</td>\n",
       "      <td>Long winded, statistical, and drearily genealo...</td>\n",
       "      <td>HPL</td>\n",
       "    </tr>\n",
       "  </tbody>\n",
       "</table>\n",
       "<p>8392 rows × 3 columns</p>\n",
       "</div>"
      ],
      "text/plain": [
       "        Index                                               text  \\\n",
       "0     id02310  Still, as I urged our leaving Ireland with suc...   \n",
       "1     id24541  If a fire wanted fanning, it could readily be ...   \n",
       "2     id00134  And when they had broken down the frail door t...   \n",
       "3     id27757  While I was thinking how I should possibly man...   \n",
       "4     id04081  I am not sure to what limit his knowledge may ...   \n",
       "...       ...                                                ...   \n",
       "8387  id11749         All this is now the fitter for my purpose.   \n",
       "8388  id10526                 I fixed myself on a wide solitude.   \n",
       "8389  id13477  It is easily understood that what might improv...   \n",
       "8390  id13761  Be this as it may, I now began to feel the ins...   \n",
       "8391  id04282  Long winded, statistical, and drearily genealo...   \n",
       "\n",
       "     Predicted Label  \n",
       "0                MWS  \n",
       "1                EAP  \n",
       "2                HPL  \n",
       "3                EAP  \n",
       "4                EAP  \n",
       "...              ...  \n",
       "8387             EAP  \n",
       "8388             MWS  \n",
       "8389             EAP  \n",
       "8390             MWS  \n",
       "8391             HPL  \n",
       "\n",
       "[8392 rows x 3 columns]"
      ]
     },
     "execution_count": 22,
     "metadata": {},
     "output_type": "execute_result"
    }
   ],
   "source": [
    "result_df"
   ]
  },
  {
   "cell_type": "code",
   "execution_count": null,
   "metadata": {},
   "outputs": [],
   "source": []
  },
  {
   "cell_type": "markdown",
   "metadata": {},
   "source": [
    "# Bert Implementation"
   ]
  },
  {
   "cell_type": "code",
   "execution_count": 23,
   "metadata": {},
   "outputs": [
    {
     "name": "stderr",
     "output_type": "stream",
     "text": [
      "/home/wesee/anaconda3/envs/auth_idt/lib/python3.12/site-packages/tqdm/auto.py:21: TqdmWarning: IProgress not found. Please update jupyter and ipywidgets. See https://ipywidgets.readthedocs.io/en/stable/user_install.html\n",
      "  from .autonotebook import tqdm as notebook_tqdm\n"
     ]
    }
   ],
   "source": [
    "import transformers\n",
    "from transformers import BertModel, BertTokenizer, AdamW, get_linear_schedule_with_warmup\n",
    "import torch\n",
    "from torch import nn, optim\n",
    "from torch.utils.data import Dataset, DataLoader\n",
    "import pandas as pd\n",
    "import pandas as pd\n",
    "import seaborn as sns\n",
    "from collections import defaultdict\n",
    "# Misc.\n",
    "import warnings\n",
    "warnings.filterwarnings('ignore')\n",
    "\n",
    "# Set GPU\n",
    "device = torch.device(\"cuda\" if torch.cuda.is_available() else \"cpu\")"
   ]
  },
  {
   "cell_type": "code",
   "execution_count": 24,
   "metadata": {},
   "outputs": [],
   "source": [
    "df = pd.read_csv('Dataset/train.csv')\n",
    "test = pd.read_csv('Dataset/test.csv')"
   ]
  },
  {
   "cell_type": "code",
   "execution_count": 25,
   "metadata": {},
   "outputs": [],
   "source": [
    "lbl_enc = LabelEncoder()\n",
    "df['author_encoder'] = lbl_enc.fit_transform(df['author'])"
   ]
  },
  {
   "cell_type": "code",
   "execution_count": 26,
   "metadata": {},
   "outputs": [
    {
     "data": {
      "text/html": [
       "<div>\n",
       "<style scoped>\n",
       "    .dataframe tbody tr th:only-of-type {\n",
       "        vertical-align: middle;\n",
       "    }\n",
       "\n",
       "    .dataframe tbody tr th {\n",
       "        vertical-align: top;\n",
       "    }\n",
       "\n",
       "    .dataframe thead th {\n",
       "        text-align: right;\n",
       "    }\n",
       "</style>\n",
       "<table border=\"1\" class=\"dataframe\">\n",
       "  <thead>\n",
       "    <tr style=\"text-align: right;\">\n",
       "      <th></th>\n",
       "      <th>id</th>\n",
       "      <th>text</th>\n",
       "      <th>author</th>\n",
       "      <th>author_encoder</th>\n",
       "    </tr>\n",
       "  </thead>\n",
       "  <tbody>\n",
       "    <tr>\n",
       "      <th>0</th>\n",
       "      <td>id26305</td>\n",
       "      <td>This process, however, afforded me no means of...</td>\n",
       "      <td>EAP</td>\n",
       "      <td>0</td>\n",
       "    </tr>\n",
       "    <tr>\n",
       "      <th>1</th>\n",
       "      <td>id17569</td>\n",
       "      <td>It never once occurred to me that the fumbling...</td>\n",
       "      <td>HPL</td>\n",
       "      <td>1</td>\n",
       "    </tr>\n",
       "    <tr>\n",
       "      <th>2</th>\n",
       "      <td>id11008</td>\n",
       "      <td>In his left hand was a gold snuff box, from wh...</td>\n",
       "      <td>EAP</td>\n",
       "      <td>0</td>\n",
       "    </tr>\n",
       "    <tr>\n",
       "      <th>3</th>\n",
       "      <td>id27763</td>\n",
       "      <td>How lovely is spring As we looked from Windsor...</td>\n",
       "      <td>MWS</td>\n",
       "      <td>2</td>\n",
       "    </tr>\n",
       "    <tr>\n",
       "      <th>4</th>\n",
       "      <td>id12958</td>\n",
       "      <td>Finding nothing else, not even gold, the Super...</td>\n",
       "      <td>HPL</td>\n",
       "      <td>1</td>\n",
       "    </tr>\n",
       "    <tr>\n",
       "      <th>...</th>\n",
       "      <td>...</td>\n",
       "      <td>...</td>\n",
       "      <td>...</td>\n",
       "      <td>...</td>\n",
       "    </tr>\n",
       "    <tr>\n",
       "      <th>19574</th>\n",
       "      <td>id17718</td>\n",
       "      <td>I could have fancied, while I looked at it, th...</td>\n",
       "      <td>EAP</td>\n",
       "      <td>0</td>\n",
       "    </tr>\n",
       "    <tr>\n",
       "      <th>19575</th>\n",
       "      <td>id08973</td>\n",
       "      <td>The lids clenched themselves together as if in...</td>\n",
       "      <td>EAP</td>\n",
       "      <td>0</td>\n",
       "    </tr>\n",
       "    <tr>\n",
       "      <th>19576</th>\n",
       "      <td>id05267</td>\n",
       "      <td>Mais il faut agir that is to say, a Frenchman ...</td>\n",
       "      <td>EAP</td>\n",
       "      <td>0</td>\n",
       "    </tr>\n",
       "    <tr>\n",
       "      <th>19577</th>\n",
       "      <td>id17513</td>\n",
       "      <td>For an item of news like this, it strikes us i...</td>\n",
       "      <td>EAP</td>\n",
       "      <td>0</td>\n",
       "    </tr>\n",
       "    <tr>\n",
       "      <th>19578</th>\n",
       "      <td>id00393</td>\n",
       "      <td>He laid a gnarled claw on my shoulder, and it ...</td>\n",
       "      <td>HPL</td>\n",
       "      <td>1</td>\n",
       "    </tr>\n",
       "  </tbody>\n",
       "</table>\n",
       "<p>19579 rows × 4 columns</p>\n",
       "</div>"
      ],
      "text/plain": [
       "            id                                               text author  \\\n",
       "0      id26305  This process, however, afforded me no means of...    EAP   \n",
       "1      id17569  It never once occurred to me that the fumbling...    HPL   \n",
       "2      id11008  In his left hand was a gold snuff box, from wh...    EAP   \n",
       "3      id27763  How lovely is spring As we looked from Windsor...    MWS   \n",
       "4      id12958  Finding nothing else, not even gold, the Super...    HPL   \n",
       "...        ...                                                ...    ...   \n",
       "19574  id17718  I could have fancied, while I looked at it, th...    EAP   \n",
       "19575  id08973  The lids clenched themselves together as if in...    EAP   \n",
       "19576  id05267  Mais il faut agir that is to say, a Frenchman ...    EAP   \n",
       "19577  id17513  For an item of news like this, it strikes us i...    EAP   \n",
       "19578  id00393  He laid a gnarled claw on my shoulder, and it ...    HPL   \n",
       "\n",
       "       author_encoder  \n",
       "0                   0  \n",
       "1                   1  \n",
       "2                   0  \n",
       "3                   2  \n",
       "4                   1  \n",
       "...               ...  \n",
       "19574               0  \n",
       "19575               0  \n",
       "19576               0  \n",
       "19577               0  \n",
       "19578               1  \n",
       "\n",
       "[19579 rows x 4 columns]"
      ]
     },
     "execution_count": 26,
     "metadata": {},
     "output_type": "execute_result"
    }
   ],
   "source": [
    "df"
   ]
  },
  {
   "cell_type": "code",
   "execution_count": 27,
   "metadata": {},
   "outputs": [],
   "source": [
    "Model = 'bert-base-cased'\n",
    "tokenizer = BertTokenizer.from_pretrained(Model)\n",
    "bert_model = BertModel.from_pretrained(Model)"
   ]
  },
  {
   "cell_type": "code",
   "execution_count": 28,
   "metadata": {},
   "outputs": [],
   "source": [
    "token_lens=[]\n",
    "\n",
    "for txt in df.text:\n",
    "    tokens = tokenizer.encode(txt,max_length=512,truncation=True)\n",
    "    token_lens.append(len(tokens))"
   ]
  },
  {
   "cell_type": "code",
   "execution_count": 29,
   "metadata": {},
   "outputs": [
    {
     "data": {
      "text/plain": [
       "Text(0.5, 0, 'Token count')"
      ]
     },
     "execution_count": 29,
     "metadata": {},
     "output_type": "execute_result"
    },
    {
     "data": {
      "image/png": "[encoded data removed]",
      "text/plain": [
       "<Figure size 640x480 with 1 Axes>"
      ]
     },
     "metadata": {},
     "output_type": "display_data"
    }
   ],
   "source": [
    "# plot the distribution of review lengths \n",
    "sns.distplot(token_lens)\n",
    "plt.xlim([0, 256]);\n",
    "plt.xlabel('Token count')"
   ]
  },
  {
   "cell_type": "code",
   "execution_count": 30,
   "metadata": {},
   "outputs": [],
   "source": [
    "\n",
    "# Most of the reviews seem to contain less than 120 tokens, but we’ll be on the safe side and choose a maximum length of 160.\n",
    "MAX_LEN = 160\n"
   ]
  },
  {
   "cell_type": "code",
   "execution_count": 31,
   "metadata": {},
   "outputs": [],
   "source": [
    "## Dataset\n",
    "class auth_dataset(Dataset):\n",
    "    def __init__(self,txt,authors,tokenizer,max_len):\n",
    "        self.txt = txt\n",
    "        self.authors = authors\n",
    "        self.tokenizer = tokenizer\n",
    "        self.max_len = max_len\n",
    "\n",
    "    \n",
    "    def __len__(self):\n",
    "        return len(self.txt)\n",
    "    \n",
    "    def __getitem__(self,item):\n",
    "        txt = str(self.txt[item])\n",
    "        author = self.authors[item]\n",
    "\n",
    "        encoding = self.tokenizer.encode_plus(\n",
    "            txt,\n",
    "            \n",
    "            add_special_tokens=True,\n",
    "            max_length=self.max_len,\n",
    "            return_token_type_ids=False,\n",
    "            pad_to_max_length=True,\n",
    "            return_attention_mask=True,\n",
    "            truncation=True,\n",
    "            return_tensors='pt',\n",
    "\n",
    "        )\n",
    "        return {\n",
    "            'txt':txt,\n",
    "            'input_id':encoding['input_ids'].flatten(),\n",
    "            'attention_mask':encoding['attention_mask'].flatten(),\n",
    "            'authors': torch.tensor(author,dtype=torch.long)\n",
    "        }\n",
    "\n"
   ]
  },
  {
   "cell_type": "code",
   "execution_count": 32,
   "metadata": {},
   "outputs": [],
   "source": [
    "df_train,df_val = train_test_split(df,test_size=0.2,random_state=42)"
   ]
  },
  {
   "cell_type": "code",
   "execution_count": 33,
   "metadata": {},
   "outputs": [],
   "source": [
    "### Create Dataloader\n",
    "\n",
    "def create_dataloader(df, batch_size,max_len, num_workers,shuffle=True):\n",
    "    ds = auth_dataset(\n",
    "        txt = df.text.to_numpy(),\n",
    "        authors=df.author_encoder.to_numpy(),\n",
    "        tokenizer=tokenizer,\n",
    "        max_len=max_len,\n",
    "    )\n",
    "\n",
    "    return DataLoader(\n",
    "        ds,\n",
    "        batch_size=batch_size,\n",
    "        shuffle=shuffle,\n",
    "        num_workers=num_workers,\n",
    "        pin_memory=True,\n",
    "    )"
   ]
  },
  {
   "cell_type": "code",
   "execution_count": 34,
   "metadata": {},
   "outputs": [],
   "source": [
    "BATCH_SIZE = 16\n",
    "Num_workers = 0\n",
    "train_data_loader = create_dataloader(df_train, BATCH_SIZE,MAX_LEN, Num_workers, shuffle=True)\n",
    "val_data_loader = create_dataloader(df_val, BATCH_SIZE,MAX_LEN, Num_workers, shuffle=True)"
   ]
  },
  {
   "cell_type": "code",
   "execution_count": 35,
   "metadata": {},
   "outputs": [
    {
     "name": "stdout",
     "output_type": "stream",
     "text": [
      "dict_keys(['txt', 'input_id', 'attention_mask', 'authors'])\n",
      "tensor([[ 101, 3458, 1319,  ...,    0,    0,    0],\n",
      "        [ 101,  107, 1247,  ...,    0,    0,    0],\n",
      "        [ 101,  107, 1192,  ...,    0,    0,    0],\n",
      "        ...,\n",
      "        [ 101, 1422, 8573,  ...,    0,    0,    0],\n",
      "        [ 101, 4352, 1103,  ...,    0,    0,    0],\n",
      "        [ 101,  146, 1261,  ...,    0,    0,    0]])\n",
      "tensor([[1, 1, 1,  ..., 0, 0, 0],\n",
      "        [1, 1, 1,  ..., 0, 0, 0],\n",
      "        [1, 1, 1,  ..., 0, 0, 0],\n",
      "        ...,\n",
      "        [1, 1, 1,  ..., 0, 0, 0],\n",
      "        [1, 1, 1,  ..., 0, 0, 0],\n",
      "        [1, 1, 1,  ..., 0, 0, 0]])\n",
      "tensor([2, 2, 1, 1, 1, 2, 1, 1, 0, 0, 2, 2, 0, 2, 1, 0])\n"
     ]
    }
   ],
   "source": [
    "data = next(iter(train_data_loader))\n",
    "print(data.keys())\n",
    "\n",
    "# print(data['txt'])\n",
    "print(data['input_id'])\n",
    "print(data['attention_mask'])\n",
    "print(data['authors'])"
   ]
  },
  {
   "cell_type": "code",
   "execution_count": 36,
   "metadata": {},
   "outputs": [],
   "source": [
    "### Sentiment Classifier\n",
    "class SentimentClassifier(nn.Module):\n",
    "    \n",
    "    def __init__(self,n_classes):\n",
    "        super(SentimentClassifier,self).__init__()\n",
    "        self.bert = bert_model\n",
    "        self.drop = nn.Dropout(p=0.3)\n",
    "        self.out = nn.Linear(self.bert.config.hidden_size,n_classes)\n",
    "    \n",
    "    def forward(self,input_ids,attention_mask):\n",
    "        pooled_output = self.bert(\n",
    "        input_ids=input_ids,\n",
    "        attention_mask=attention_mask\n",
    "    )[1] \n",
    "\n",
    "        output = self.drop(pooled_output)\n",
    "        return self.out(output)\n",
    "                           "
   ]
  },
  {
   "cell_type": "code",
   "execution_count": 37,
   "metadata": {},
   "outputs": [
    {
     "name": "stdout",
     "output_type": "stream",
     "text": [
      "['EAP' 'HPL' 'MWS']\n",
      "768\n"
     ]
    }
   ],
   "source": [
    "unique_authors = df['author'].unique()\n",
    "print(unique_authors)\n",
    "\n",
    "\n",
    "model = SentimentClassifier(len(unique_authors))\n",
    "model = model.to(device)\n",
    "\n",
    "# Number of hidden units\n",
    "print(bert_model.config.hidden_size)"
   ]
  },
  {
   "cell_type": "code",
   "execution_count": 38,
   "metadata": {},
   "outputs": [],
   "source": [
    "Epoch=10\n",
    "optim = AdamW(model.parameters(),lr=2e-5,correct_bias=False)\n",
    "\n",
    "total_step = len(train_data_loader)*Epoch\n",
    "\n",
    "scheduler = get_linear_schedule_with_warmup(optim,\n",
    "                                            num_warmup_steps=0,\n",
    "                                            num_training_steps=total_step)\n",
    "\n",
    "loss_fn= nn.CrossEntropyLoss().to(device)"
   ]
  },
  {
   "cell_type": "code",
   "execution_count": 39,
   "metadata": {},
   "outputs": [],
   "source": [
    "def train_epoch(model,data_loader,loss_fn,optim,device,scheduler,n_examples):\n",
    "    model = model.train()\n",
    "    losses = []\n",
    "    correct_pred =0\n",
    "\n",
    "    for d in data_loader:\n",
    "        input_ids = d[\"input_id\"].to(device)\n",
    "        attention_mask = d[\"attention_mask\"].to(device)\n",
    "        authors = d['authors'].to(device)\n",
    "\n",
    "        outputs = model(\n",
    "            input_ids = input_ids,\n",
    "            attention_mask = attention_mask\n",
    "        )\n",
    "\n",
    "        _,pred = torch.max(outputs,dim=1)\n",
    "        loss = loss_fn(outputs,authors)\n",
    "        correct_pred += torch.sum(pred == authors)\n",
    "        losses.append(loss.item())\n",
    "\n",
    "        loss.backward()\n",
    "\n",
    "        nn.utils.clip_grad_norm_(model.parameters(),max_norm=1.0)\n",
    "        optim.step()\n",
    "        scheduler.step()\n",
    "        optim.zero_grad() \n",
    "        \n",
    "\n",
    "    return correct_pred.double()/n_examples, np.mean(losses)"
   ]
  },
  {
   "cell_type": "code",
   "execution_count": 42,
   "metadata": {},
   "outputs": [],
   "source": [
    "def eval_model(model,data_loader, loss_fn,device,n_examples):\n",
    "    model = model.eval()\n",
    "\n",
    "    losses = []\n",
    "    correct_pred = 0 \n",
    "\n",
    "    with torch.no_grad():\n",
    "        for d in data_loader:\n",
    "            input_ids = d[\"input_id\"].to(device)\n",
    "            attention_mask = d[\"attention_mask\"].to(device)\n",
    "            authors = d['authors'].to(device)\n",
    "\n",
    "            # Get model ouptuts\n",
    "            outputs = model(\n",
    "                input_ids=input_ids,\n",
    "                attention_mask=attention_mask\n",
    "            )\n",
    "            \n",
    "            _, preds = torch.max(outputs, dim=1)\n",
    "            loss = loss_fn(outputs, authors)\n",
    "            \n",
    "            correct_pred += torch.sum(preds == authors)\n",
    "            losses.append(loss.item())\n",
    "    return correct_pred.double()/n_examples, np.mean(losses)\n"
   ]
  },
  {
   "cell_type": "code",
   "execution_count": 43,
   "metadata": {},
   "outputs": [
    {
     "name": "stdout",
     "output_type": "stream",
     "text": [
      "Epoch 1/10\n",
      "----------\n",
      "Train loss 0.1719887575429657 accuracy 0.9457319798250653\n",
      "Val   loss 0.4977426034588443 accuracy 0.8677221654749745\n",
      "\n",
      "Epoch 2/10\n",
      "----------\n",
      "Train loss 0.0644021719376998 accuracy 0.9835919044882844\n",
      "Val   loss 0.6763614028777775 accuracy 0.8812563840653729\n",
      "\n",
      "Epoch 3/10\n",
      "----------\n",
      "Train loss 0.030241316143183473 accuracy 0.9924663219051266\n",
      "Val   loss 0.7686902276574686 accuracy 0.875638406537283\n",
      "\n",
      "Epoch 4/10\n",
      "----------\n",
      "Train loss 0.012811126650700758 accuracy 0.9970631424375916\n",
      "Val   loss 0.902669464642546 accuracy 0.8853421859039837\n",
      "\n",
      "Epoch 5/10\n",
      "----------\n",
      "Train loss 0.013328776803014865 accuracy 0.997446210815297\n",
      "Val   loss 0.9011483617541968 accuracy 0.8868743615934628\n",
      "\n",
      "Epoch 6/10\n",
      "----------\n",
      "Train loss 0.009919785611075786 accuracy 0.9979569686522377\n",
      "Val   loss 0.8971151190571729 accuracy 0.8876404494382023\n",
      "\n",
      "Epoch 7/10\n",
      "----------\n",
      "Train loss 0.004738521681071639 accuracy 0.9988507948668837\n",
      "Val   loss 0.96645047352307 accuracy 0.8848314606741573\n",
      "\n",
      "Epoch 8/10\n",
      "----------\n",
      "Train loss 0.0016248016626376719 accuracy 0.9995530868926769\n",
      "Val   loss 1.0019010917508666 accuracy 0.8838100102145047\n",
      "\n",
      "Epoch 9/10\n",
      "----------\n",
      "Train loss 0.0005426529978946623 accuracy 0.9997446210815296\n",
      "Val   loss 1.0089192633297583 accuracy 0.8850868232890705\n",
      "\n",
      "Epoch 10/10\n",
      "----------\n",
      "Train loss 0.00054877575221103 accuracy 0.9998723105407648\n",
      "Val   loss 1.0084130097533972 accuracy 0.8850868232890705\n",
      "\n"
     ]
    }
   ],
   "source": [
    "best_accuracy = 0\n",
    "history = defaultdict(list)\n",
    "for epoch in range(Epoch):\n",
    "    \n",
    "    # Show details \n",
    "    print(f\"Epoch {epoch + 1}/{Epoch}\")\n",
    "    print(\"-\" * 10)\n",
    "    \n",
    "    train_acc, train_loss = train_epoch(\n",
    "        model,\n",
    "        train_data_loader,\n",
    "        loss_fn,\n",
    "        optim,\n",
    "        device,\n",
    "        scheduler,\n",
    "        len(df_train)\n",
    "    )\n",
    "    \n",
    "    print(f\"Train loss {train_loss} accuracy {train_acc}\")\n",
    "    \n",
    "    # Get model performance (accuracy and loss)\n",
    "    val_acc, val_loss = eval_model(\n",
    "        model,\n",
    "        val_data_loader,\n",
    "        loss_fn,\n",
    "        device,\n",
    "        len(df_val)\n",
    "    )\n",
    "    print(f\"Val   loss {val_loss} accuracy {val_acc}\")\n",
    "    print()\n",
    "    \n",
    "    history['train_acc'].append(train_acc)\n",
    "    history['train_loss'].append(train_loss)\n",
    "    history['val_acc'].append(val_acc)\n",
    "    history['val_loss'].append(val_loss)\n",
    "    \n",
    "    # If we beat prev performance\n",
    "    if val_acc > best_accuracy:\n",
    "        torch.save(model.state_dict(), 'best_model_state.bin')\n",
    "        best_accuracy = val_acc"
   ]
  },
  {
   "cell_type": "code",
   "execution_count": 52,
   "metadata": {},
   "outputs": [
    {
     "data": {
      "text/plain": [
       "(0.0, 1.0)"
      ]
     },
     "execution_count": 52,
     "metadata": {},
     "output_type": "execute_result"
    },
    {
     "data": {
      "image/png": "[encoded data removed]",
      "text/plain": [
       "<Figure size 640x480 with 1 Axes>"
      ]
     },
     "metadata": {},
     "output_type": "display_data"
    }
   ],
   "source": [
    "# Plot training and validation accuracy\n",
    "\n",
    "# Extract scalar values from the tensors and convert to numpy arrays\n",
    "train_acc_np = np.array([item.item() for item in history['train_acc']])\n",
    "val_acc_np = np.array([item.item() for item in history['val_acc']])\n",
    "\n",
    "\n",
    "plt.plot(train_acc_np, label='train accuracy')\n",
    "plt.plot(val_acc_np, label='validation accuracy')\n",
    "\n",
    "# Graph chars\n",
    "plt.title('Training history')\n",
    "plt.ylabel('Accuracy')\n",
    "plt.xlabel('Epoch')\n",
    "plt.legend()\n",
    "plt.ylim([0, 1])"
   ]
  },
  {
   "cell_type": "code",
   "execution_count": 59,
   "metadata": {},
   "outputs": [],
   "source": [
    "### Define a helper function to get predictions from our models. This is similar to the evaluation function, except that we’re storing the text of the reviews and the predicted probabilities\n",
    "\n",
    "def get_pred(model,data_loader):\n",
    "    model = model.eval()\n",
    "\n",
    "    txts =[]\n",
    "    pred = []\n",
    "    pred_prob = []\n",
    "    real_val = []\n",
    "\n",
    "    with torch.no_grad():\n",
    "        for d in data_loader:\n",
    "            input_ids = d[\"input_id\"].to(device)\n",
    "            txt  = d[\"txt\"]\n",
    "            attention_mask = d[\"attention_mask\"].to(device)\n",
    "            authors = d['authors'].to(device)\n",
    "\n",
    "            # Get model ouptuts\n",
    "            outputs = model(\n",
    "                input_ids=input_ids,\n",
    "                attention_mask=attention_mask\n",
    "            )\n",
    "            \n",
    "            _, preds = torch.max(outputs, dim=1)\n",
    "\n",
    "            txts.extend(txt)\n",
    "            pred.extend(preds)\n",
    "            pred_prob.extend(outputs)\n",
    "            real_val.extend(authors)\n",
    "\n",
    "    pred = torch.stack(pred).cpu()\n",
    "    pred_prob = torch.stack(pred_prob).cpu()\n",
    "    real_val = torch.stack(real_val).cpu()\n",
    "\n",
    "    return txts,pred,pred_prob,real_val"
   ]
  },
  {
   "cell_type": "code",
   "execution_count": 60,
   "metadata": {},
   "outputs": [],
   "source": [
    "\n",
    "\n",
    "y_review_texts, y_pred, y_pred_probs, y_test = get_pred(\n",
    "    model,\n",
    "    val_data_loader)\n",
    "\n"
   ]
  },
  {
   "cell_type": "code",
   "execution_count": 75,
   "metadata": {},
   "outputs": [
    {
     "data": {
      "text/plain": [
       "tensor([[-4.2850, -4.1666,  8.0736],\n",
       "        [ 8.5065, -3.7701, -3.3719],\n",
       "        [-3.9702,  8.3321, -3.9237],\n",
       "        ...,\n",
       "        [ 8.3897, -3.7311, -3.4055],\n",
       "        [ 8.5208, -3.6485, -3.5259],\n",
       "        [-3.8744,  8.2966, -3.9167]])"
      ]
     },
     "execution_count": 75,
     "metadata": {},
     "output_type": "execute_result"
    }
   ],
   "source": [
    "y_pred_probs"
   ]
  },
  {
   "cell_type": "code",
   "execution_count": 62,
   "metadata": {},
   "outputs": [
    {
     "name": "stdout",
     "output_type": "stream",
     "text": [
      "              precision    recall  f1-score   support\n",
      "\n",
      "         EAP       0.89      0.87      0.88      1570\n",
      "         HPL       0.89      0.90      0.89      1071\n",
      "         MWS       0.87      0.89      0.88      1275\n",
      "\n",
      "    accuracy                           0.89      3916\n",
      "   macro avg       0.88      0.89      0.89      3916\n",
      "weighted avg       0.89      0.89      0.89      3916\n",
      "\n"
     ]
    }
   ],
   "source": [
    "print(classification_report(y_test,y_pred,target_names=unique_authors))"
   ]
  },
  {
   "cell_type": "code",
   "execution_count": 65,
   "metadata": {},
   "outputs": [
    {
     "data": {
      "image/png": "[encoded data removed]",
      "text/plain": [
       "<Figure size 640x480 with 2 Axes>"
      ]
     },
     "metadata": {},
     "output_type": "display_data"
    }
   ],
   "source": [
    "\n",
    "\n",
    "def show_confusion_matrix(confusion_matrix):\n",
    "    hmap = sns.heatmap(confusion_matrix, annot=True, fmt=\"d\", cmap=\"Blues\")\n",
    "    hmap.yaxis.set_ticklabels(hmap.yaxis.get_ticklabels(), rotation=0, ha='right')\n",
    "    hmap.xaxis.set_ticklabels(hmap.xaxis.get_ticklabels(), rotation=30, ha='right')\n",
    "    plt.ylabel('True sentiment')\n",
    "    plt.xlabel('Predicted sentiment')\n",
    "\n",
    "cm = confusion_matrix(y_test, y_pred)\n",
    "df_cm = pd.DataFrame(cm, index=unique_authors, columns=unique_authors)\n",
    "show_confusion_matrix(df_cm)\n",
    "\n"
   ]
  },
  {
   "cell_type": "code",
   "execution_count": 70,
   "metadata": {},
   "outputs": [],
   "source": [
    "### Predict raw text\n",
    "review_text = 'It never once occurred to me that the fumbling might be a mere mistake.'"
   ]
  },
  {
   "cell_type": "code",
   "execution_count": 71,
   "metadata": {},
   "outputs": [],
   "source": [
    "encoded_view = tokenizer.encode_plus(\n",
    "    review_text,\n",
    "    max_length = MAX_LEN,\n",
    "    add_special_tokens = True,\n",
    "    return_token_type_ids = False,\n",
    "    pad_to_max_length = True,\n",
    "    return_attention_mask = True,\n",
    "    return_tensors = 'pt',\n",
    "    truncation=True\n",
    ")"
   ]
  },
  {
   "cell_type": "code",
   "execution_count": 73,
   "metadata": {},
   "outputs": [
    {
     "data": {
      "text/plain": [
       "{'input_ids': tensor([[  101,  1135,  1309,  1517,  3296,  1106,  1143,  1115,  1103,   175,\n",
       "         17776,  1547,  1129,   170,  8574,  6223,   119,   102,     0,     0,\n",
       "             0,     0,     0,     0,     0,     0,     0,     0,     0,     0,\n",
       "             0,     0,     0,     0,     0,     0,     0,     0,     0,     0,\n",
       "             0,     0,     0,     0,     0,     0,     0,     0,     0,     0,\n",
       "             0,     0,     0,     0,     0,     0,     0,     0,     0,     0,\n",
       "             0,     0,     0,     0,     0,     0,     0,     0,     0,     0,\n",
       "             0,     0,     0,     0,     0,     0,     0,     0,     0,     0,\n",
       "             0,     0,     0,     0,     0,     0,     0,     0,     0,     0,\n",
       "             0,     0,     0,     0,     0,     0,     0,     0,     0,     0,\n",
       "             0,     0,     0,     0,     0,     0,     0,     0,     0,     0,\n",
       "             0,     0,     0,     0,     0,     0,     0,     0,     0,     0,\n",
       "             0,     0,     0,     0,     0,     0,     0,     0,     0,     0,\n",
       "             0,     0,     0,     0,     0,     0,     0,     0,     0,     0,\n",
       "             0,     0,     0,     0,     0,     0,     0,     0,     0,     0,\n",
       "             0,     0,     0,     0,     0,     0,     0,     0,     0,     0]]), 'attention_mask': tensor([[1, 1, 1, 1, 1, 1, 1, 1, 1, 1, 1, 1, 1, 1, 1, 1, 1, 1, 0, 0, 0, 0, 0, 0,\n",
       "         0, 0, 0, 0, 0, 0, 0, 0, 0, 0, 0, 0, 0, 0, 0, 0, 0, 0, 0, 0, 0, 0, 0, 0,\n",
       "         0, 0, 0, 0, 0, 0, 0, 0, 0, 0, 0, 0, 0, 0, 0, 0, 0, 0, 0, 0, 0, 0, 0, 0,\n",
       "         0, 0, 0, 0, 0, 0, 0, 0, 0, 0, 0, 0, 0, 0, 0, 0, 0, 0, 0, 0, 0, 0, 0, 0,\n",
       "         0, 0, 0, 0, 0, 0, 0, 0, 0, 0, 0, 0, 0, 0, 0, 0, 0, 0, 0, 0, 0, 0, 0, 0,\n",
       "         0, 0, 0, 0, 0, 0, 0, 0, 0, 0, 0, 0, 0, 0, 0, 0, 0, 0, 0, 0, 0, 0, 0, 0,\n",
       "         0, 0, 0, 0, 0, 0, 0, 0, 0, 0, 0, 0, 0, 0, 0, 0]])}"
      ]
     },
     "execution_count": 73,
     "metadata": {},
     "output_type": "execute_result"
    }
   ],
   "source": [
    "encoded_view"
   ]
  },
  {
   "cell_type": "code",
   "execution_count": 74,
   "metadata": {},
   "outputs": [
    {
     "name": "stdout",
     "output_type": "stream",
     "text": [
      "Review text: It never once occurred to me that the fumbling might be a mere mistake.\n",
      "Sentiment  : HPL\n"
     ]
    }
   ],
   "source": [
    "input_ids = encoded_view['input_ids'].to(device)\n",
    "attention_mask = encoded_view['attention_mask'].to(device)\n",
    "\n",
    "output = model (input_ids,attention_mask)\n",
    "_, pred = torch.max(output,dim=1)\n",
    "\n",
    "print(f'Review text: {review_text}')\n",
    "print(f'Sentiment  : {unique_authors[pred]}')"
   ]
  },
  {
   "cell_type": "markdown",
   "metadata": {},
   "source": [
    "### Running Bert on Infernce Dataset"
   ]
  },
  {
   "cell_type": "code",
   "execution_count": 116,
   "metadata": {},
   "outputs": [],
   "source": [
    "class unseen_auth_dataset(Dataset):\n",
    "    def __init__(self, txt, id, tokenizer, max_len):\n",
    "        self.txt = txt\n",
    "        self.id = id\n",
    "        self.tokenizer = tokenizer\n",
    "        self.max_len = max_len\n",
    "\n",
    "    def __len__(self):\n",
    "        return len(self.txt)\n",
    "\n",
    "    def __getitem__(self, item):\n",
    "        txt = str(self.txt[item])\n",
    "        id_ = self.id[item]\n",
    "\n",
    "        encoding = self.tokenizer.encode_plus(\n",
    "            txt,\n",
    "            add_special_tokens=True,\n",
    "            max_length=self.max_len,\n",
    "            return_token_type_ids=False,\n",
    "            pad_to_max_length=True,\n",
    "            return_attention_mask=True,\n",
    "            truncation=True,\n",
    "            return_tensors='pt',\n",
    "        )\n",
    "        return {\n",
    "            'id': id_,\n",
    "            'txt': txt,\n",
    "            'input_ids': encoding['input_ids'].flatten(),\n",
    "            'attention_mask': encoding['attention_mask'].flatten(),\n",
    "        }"
   ]
  },
  {
   "cell_type": "code",
   "execution_count": 117,
   "metadata": {},
   "outputs": [],
   "source": [
    "def create_unseen_dataloader(df, batch_size, max_len, num_workers, shuffle=True):\n",
    "    ds = unseen_auth_dataset(\n",
    "        txt=df.text.to_numpy(),\n",
    "        id=df.id.to_numpy(),\n",
    "        tokenizer=tokenizer,\n",
    "        max_len=max_len,\n",
    "    )\n",
    "\n",
    "    return DataLoader(\n",
    "        ds,\n",
    "        batch_size=batch_size,\n",
    "        shuffle=shuffle,\n",
    "        num_workers=num_workers,\n",
    "        pin_memory=True,\n",
    "    )\n"
   ]
  },
  {
   "cell_type": "code",
   "execution_count": 118,
   "metadata": {},
   "outputs": [],
   "source": [
    "unseen_dataset = create_unseen_dataloader(test, BATCH_SIZE, MAX_LEN, Num_workers, shuffle=True)\n"
   ]
  },
  {
   "cell_type": "code",
   "execution_count": 123,
   "metadata": {},
   "outputs": [
    {
     "data": {
      "text/plain": [
       "dict_keys(['id', 'txt', 'input_ids', 'attention_mask'])"
      ]
     },
     "execution_count": 123,
     "metadata": {},
     "output_type": "execute_result"
    }
   ],
   "source": [
    "data_ = next(iter(unseen_dataset))\n",
    "data_.keys()"
   ]
  },
  {
   "cell_type": "code",
   "execution_count": 129,
   "metadata": {},
   "outputs": [],
   "source": [
    "def unseen_data_get_pred(model,data_loader):\n",
    "\n",
    "    model = model.eval()\n",
    "    ids = []\n",
    "    txts =[]\n",
    "    pred = []\n",
    "    pred_prob = []\n",
    "\n",
    "    with torch.no_grad():\n",
    "        for d in data_loader:\n",
    "            input_ids = d[\"input_ids\"].to(device)\n",
    "            txt  = d[\"txt\"]\n",
    "            id = d[\"id\"]\n",
    "            attention_mask = d[\"attention_mask\"].to(device)\n",
    "\n",
    "            # Get model ouptuts\n",
    "            outputs = model(\n",
    "                input_ids=input_ids,\n",
    "                attention_mask=attention_mask\n",
    "            )\n",
    "            \n",
    "            _, preds = torch.max(outputs, dim=1)\n",
    "\n",
    "            ids.extend(id)\n",
    "            txts.extend(txt)\n",
    "            pred.extend(preds)\n",
    "            pred_prob.extend(outputs)\n",
    "            \n",
    "\n",
    "    pred = torch.stack(pred).cpu()\n",
    "    pred_prob = torch.stack(pred_prob).cpu()\n",
    "\n",
    "    return txts,pred,pred_prob,ids"
   ]
  },
  {
   "cell_type": "code",
   "execution_count": 130,
   "metadata": {},
   "outputs": [],
   "source": [
    "y_review_texts, y_pred, y_pred_probs, y_ids = unseen_data_get_pred(\n",
    "    model,\n",
    "    unseen_dataset)"
   ]
  },
  {
   "cell_type": "code",
   "execution_count": 131,
   "metadata": {},
   "outputs": [
    {
     "ename": "ValueError",
     "evalue": "Mix of label input types (string and number)",
     "output_type": "error",
     "traceback": [
      "\u001b[0;31m---------------------------------------------------------------------------\u001b[0m",
      "\u001b[0;31mValueError\u001b[0m                                Traceback (most recent call last)",
      "Cell \u001b[0;32mIn[131], line 1\u001b[0m\n\u001b[0;32m----> 1\u001b[0m \u001b[38;5;28mprint\u001b[39m(\u001b[43mclassification_report\u001b[49m\u001b[43m(\u001b[49m\u001b[43my_ids\u001b[49m\u001b[43m,\u001b[49m\u001b[43my_pred\u001b[49m\u001b[43m,\u001b[49m\u001b[43mtarget_names\u001b[49m\u001b[38;5;241;43m=\u001b[39;49m\u001b[43munique_authors\u001b[49m\u001b[43m)\u001b[49m)\n",
      "File \u001b[0;32m~/anaconda3/envs/auth_idt/lib/python3.12/site-packages/sklearn/utils/_param_validation.py:213\u001b[0m, in \u001b[0;36mvalidate_params.<locals>.decorator.<locals>.wrapper\u001b[0;34m(*args, **kwargs)\u001b[0m\n\u001b[1;32m    207\u001b[0m \u001b[38;5;28;01mtry\u001b[39;00m:\n\u001b[1;32m    208\u001b[0m     \u001b[38;5;28;01mwith\u001b[39;00m config_context(\n\u001b[1;32m    209\u001b[0m         skip_parameter_validation\u001b[38;5;241m=\u001b[39m(\n\u001b[1;32m    210\u001b[0m             prefer_skip_nested_validation \u001b[38;5;129;01mor\u001b[39;00m global_skip_validation\n\u001b[1;32m    211\u001b[0m         )\n\u001b[1;32m    212\u001b[0m     ):\n\u001b[0;32m--> 213\u001b[0m         \u001b[38;5;28;01mreturn\u001b[39;00m \u001b[43mfunc\u001b[49m\u001b[43m(\u001b[49m\u001b[38;5;241;43m*\u001b[39;49m\u001b[43margs\u001b[49m\u001b[43m,\u001b[49m\u001b[43m \u001b[49m\u001b[38;5;241;43m*\u001b[39;49m\u001b[38;5;241;43m*\u001b[39;49m\u001b[43mkwargs\u001b[49m\u001b[43m)\u001b[49m\n\u001b[1;32m    214\u001b[0m \u001b[38;5;28;01mexcept\u001b[39;00m InvalidParameterError \u001b[38;5;28;01mas\u001b[39;00m e:\n\u001b[1;32m    215\u001b[0m     \u001b[38;5;66;03m# When the function is just a wrapper around an estimator, we allow\u001b[39;00m\n\u001b[1;32m    216\u001b[0m     \u001b[38;5;66;03m# the function to delegate validation to the estimator, but we replace\u001b[39;00m\n\u001b[1;32m    217\u001b[0m     \u001b[38;5;66;03m# the name of the estimator by the name of the function in the error\u001b[39;00m\n\u001b[1;32m    218\u001b[0m     \u001b[38;5;66;03m# message to avoid confusion.\u001b[39;00m\n\u001b[1;32m    219\u001b[0m     msg \u001b[38;5;241m=\u001b[39m re\u001b[38;5;241m.\u001b[39msub(\n\u001b[1;32m    220\u001b[0m         \u001b[38;5;124mr\u001b[39m\u001b[38;5;124m\"\u001b[39m\u001b[38;5;124mparameter of \u001b[39m\u001b[38;5;124m\\\u001b[39m\u001b[38;5;124mw+ must be\u001b[39m\u001b[38;5;124m\"\u001b[39m,\n\u001b[1;32m    221\u001b[0m         \u001b[38;5;124mf\u001b[39m\u001b[38;5;124m\"\u001b[39m\u001b[38;5;124mparameter of \u001b[39m\u001b[38;5;132;01m{\u001b[39;00mfunc\u001b[38;5;241m.\u001b[39m\u001b[38;5;18m__qualname__\u001b[39m\u001b[38;5;132;01m}\u001b[39;00m\u001b[38;5;124m must be\u001b[39m\u001b[38;5;124m\"\u001b[39m,\n\u001b[1;32m    222\u001b[0m         \u001b[38;5;28mstr\u001b[39m(e),\n\u001b[1;32m    223\u001b[0m     )\n",
      "File \u001b[0;32m~/anaconda3/envs/auth_idt/lib/python3.12/site-packages/sklearn/metrics/_classification.py:2607\u001b[0m, in \u001b[0;36mclassification_report\u001b[0;34m(y_true, y_pred, labels, target_names, sample_weight, digits, output_dict, zero_division)\u001b[0m\n\u001b[1;32m   2604\u001b[0m y_type, y_true, y_pred \u001b[38;5;241m=\u001b[39m _check_targets(y_true, y_pred)\n\u001b[1;32m   2606\u001b[0m \u001b[38;5;28;01mif\u001b[39;00m labels \u001b[38;5;129;01mis\u001b[39;00m \u001b[38;5;28;01mNone\u001b[39;00m:\n\u001b[0;32m-> 2607\u001b[0m     labels \u001b[38;5;241m=\u001b[39m \u001b[43munique_labels\u001b[49m\u001b[43m(\u001b[49m\u001b[43my_true\u001b[49m\u001b[43m,\u001b[49m\u001b[43m \u001b[49m\u001b[43my_pred\u001b[49m\u001b[43m)\u001b[49m\n\u001b[1;32m   2608\u001b[0m     labels_given \u001b[38;5;241m=\u001b[39m \u001b[38;5;28;01mFalse\u001b[39;00m\n\u001b[1;32m   2609\u001b[0m \u001b[38;5;28;01melse\u001b[39;00m:\n",
      "File \u001b[0;32m~/anaconda3/envs/auth_idt/lib/python3.12/site-packages/sklearn/utils/multiclass.py:116\u001b[0m, in \u001b[0;36munique_labels\u001b[0;34m(*ys)\u001b[0m\n\u001b[1;32m    114\u001b[0m \u001b[38;5;66;03m# Check that we don't mix string type with number type\u001b[39;00m\n\u001b[1;32m    115\u001b[0m \u001b[38;5;28;01mif\u001b[39;00m \u001b[38;5;28mlen\u001b[39m(\u001b[38;5;28mset\u001b[39m(\u001b[38;5;28misinstance\u001b[39m(label, \u001b[38;5;28mstr\u001b[39m) \u001b[38;5;28;01mfor\u001b[39;00m label \u001b[38;5;129;01min\u001b[39;00m ys_labels)) \u001b[38;5;241m>\u001b[39m \u001b[38;5;241m1\u001b[39m:\n\u001b[0;32m--> 116\u001b[0m     \u001b[38;5;28;01mraise\u001b[39;00m \u001b[38;5;167;01mValueError\u001b[39;00m(\u001b[38;5;124m\"\u001b[39m\u001b[38;5;124mMix of label input types (string and number)\u001b[39m\u001b[38;5;124m\"\u001b[39m)\n\u001b[1;32m    118\u001b[0m \u001b[38;5;28;01mreturn\u001b[39;00m xp\u001b[38;5;241m.\u001b[39masarray(\u001b[38;5;28msorted\u001b[39m(ys_labels))\n",
      "\u001b[0;31mValueError\u001b[0m: Mix of label input types (string and number)"
     ]
    }
   ],
   "source": [
    "print(classification_report(y_ids,y_pred,target_names=unique_authors))"
   ]
  },
  {
   "cell_type": "code",
   "execution_count": 132,
   "metadata": {},
   "outputs": [
    {
     "ename": "ValueError",
     "evalue": "Mix of label input types (string and number)",
     "output_type": "error",
     "traceback": [
      "\u001b[0;31m---------------------------------------------------------------------------\u001b[0m",
      "\u001b[0;31mValueError\u001b[0m                                Traceback (most recent call last)",
      "Cell \u001b[0;32mIn[132], line 8\u001b[0m\n\u001b[1;32m      5\u001b[0m     plt\u001b[38;5;241m.\u001b[39mylabel(\u001b[38;5;124m'\u001b[39m\u001b[38;5;124mTrue sentiment\u001b[39m\u001b[38;5;124m'\u001b[39m)\n\u001b[1;32m      6\u001b[0m     plt\u001b[38;5;241m.\u001b[39mxlabel(\u001b[38;5;124m'\u001b[39m\u001b[38;5;124mPredicted sentiment\u001b[39m\u001b[38;5;124m'\u001b[39m)\n\u001b[0;32m----> 8\u001b[0m cm \u001b[38;5;241m=\u001b[39m \u001b[43mconfusion_matrix\u001b[49m\u001b[43m(\u001b[49m\u001b[43my_ids\u001b[49m\u001b[43m,\u001b[49m\u001b[43m \u001b[49m\u001b[43my_pred\u001b[49m\u001b[43m)\u001b[49m\n\u001b[1;32m      9\u001b[0m df_cm \u001b[38;5;241m=\u001b[39m pd\u001b[38;5;241m.\u001b[39mDataFrame(cm, index\u001b[38;5;241m=\u001b[39munique_authors, columns\u001b[38;5;241m=\u001b[39munique_authors)\n\u001b[1;32m     10\u001b[0m show_confusion_matrix(df_cm)\n",
      "File \u001b[0;32m~/anaconda3/envs/auth_idt/lib/python3.12/site-packages/sklearn/utils/_param_validation.py:213\u001b[0m, in \u001b[0;36mvalidate_params.<locals>.decorator.<locals>.wrapper\u001b[0;34m(*args, **kwargs)\u001b[0m\n\u001b[1;32m    207\u001b[0m \u001b[38;5;28;01mtry\u001b[39;00m:\n\u001b[1;32m    208\u001b[0m     \u001b[38;5;28;01mwith\u001b[39;00m config_context(\n\u001b[1;32m    209\u001b[0m         skip_parameter_validation\u001b[38;5;241m=\u001b[39m(\n\u001b[1;32m    210\u001b[0m             prefer_skip_nested_validation \u001b[38;5;129;01mor\u001b[39;00m global_skip_validation\n\u001b[1;32m    211\u001b[0m         )\n\u001b[1;32m    212\u001b[0m     ):\n\u001b[0;32m--> 213\u001b[0m         \u001b[38;5;28;01mreturn\u001b[39;00m \u001b[43mfunc\u001b[49m\u001b[43m(\u001b[49m\u001b[38;5;241;43m*\u001b[39;49m\u001b[43margs\u001b[49m\u001b[43m,\u001b[49m\u001b[43m \u001b[49m\u001b[38;5;241;43m*\u001b[39;49m\u001b[38;5;241;43m*\u001b[39;49m\u001b[43mkwargs\u001b[49m\u001b[43m)\u001b[49m\n\u001b[1;32m    214\u001b[0m \u001b[38;5;28;01mexcept\u001b[39;00m InvalidParameterError \u001b[38;5;28;01mas\u001b[39;00m e:\n\u001b[1;32m    215\u001b[0m     \u001b[38;5;66;03m# When the function is just a wrapper around an estimator, we allow\u001b[39;00m\n\u001b[1;32m    216\u001b[0m     \u001b[38;5;66;03m# the function to delegate validation to the estimator, but we replace\u001b[39;00m\n\u001b[1;32m    217\u001b[0m     \u001b[38;5;66;03m# the name of the estimator by the name of the function in the error\u001b[39;00m\n\u001b[1;32m    218\u001b[0m     \u001b[38;5;66;03m# message to avoid confusion.\u001b[39;00m\n\u001b[1;32m    219\u001b[0m     msg \u001b[38;5;241m=\u001b[39m re\u001b[38;5;241m.\u001b[39msub(\n\u001b[1;32m    220\u001b[0m         \u001b[38;5;124mr\u001b[39m\u001b[38;5;124m\"\u001b[39m\u001b[38;5;124mparameter of \u001b[39m\u001b[38;5;124m\\\u001b[39m\u001b[38;5;124mw+ must be\u001b[39m\u001b[38;5;124m\"\u001b[39m,\n\u001b[1;32m    221\u001b[0m         \u001b[38;5;124mf\u001b[39m\u001b[38;5;124m\"\u001b[39m\u001b[38;5;124mparameter of \u001b[39m\u001b[38;5;132;01m{\u001b[39;00mfunc\u001b[38;5;241m.\u001b[39m\u001b[38;5;18m__qualname__\u001b[39m\u001b[38;5;132;01m}\u001b[39;00m\u001b[38;5;124m must be\u001b[39m\u001b[38;5;124m\"\u001b[39m,\n\u001b[1;32m    222\u001b[0m         \u001b[38;5;28mstr\u001b[39m(e),\n\u001b[1;32m    223\u001b[0m     )\n",
      "File \u001b[0;32m~/anaconda3/envs/auth_idt/lib/python3.12/site-packages/sklearn/metrics/_classification.py:324\u001b[0m, in \u001b[0;36mconfusion_matrix\u001b[0;34m(y_true, y_pred, labels, sample_weight, normalize)\u001b[0m\n\u001b[1;32m    321\u001b[0m     \u001b[38;5;28;01mraise\u001b[39;00m \u001b[38;5;167;01mValueError\u001b[39;00m(\u001b[38;5;124m\"\u001b[39m\u001b[38;5;132;01m%s\u001b[39;00m\u001b[38;5;124m is not supported\u001b[39m\u001b[38;5;124m\"\u001b[39m \u001b[38;5;241m%\u001b[39m y_type)\n\u001b[1;32m    323\u001b[0m \u001b[38;5;28;01mif\u001b[39;00m labels \u001b[38;5;129;01mis\u001b[39;00m \u001b[38;5;28;01mNone\u001b[39;00m:\n\u001b[0;32m--> 324\u001b[0m     labels \u001b[38;5;241m=\u001b[39m \u001b[43munique_labels\u001b[49m\u001b[43m(\u001b[49m\u001b[43my_true\u001b[49m\u001b[43m,\u001b[49m\u001b[43m \u001b[49m\u001b[43my_pred\u001b[49m\u001b[43m)\u001b[49m\n\u001b[1;32m    325\u001b[0m \u001b[38;5;28;01melse\u001b[39;00m:\n\u001b[1;32m    326\u001b[0m     labels \u001b[38;5;241m=\u001b[39m np\u001b[38;5;241m.\u001b[39masarray(labels)\n",
      "File \u001b[0;32m~/anaconda3/envs/auth_idt/lib/python3.12/site-packages/sklearn/utils/multiclass.py:116\u001b[0m, in \u001b[0;36munique_labels\u001b[0;34m(*ys)\u001b[0m\n\u001b[1;32m    114\u001b[0m \u001b[38;5;66;03m# Check that we don't mix string type with number type\u001b[39;00m\n\u001b[1;32m    115\u001b[0m \u001b[38;5;28;01mif\u001b[39;00m \u001b[38;5;28mlen\u001b[39m(\u001b[38;5;28mset\u001b[39m(\u001b[38;5;28misinstance\u001b[39m(label, \u001b[38;5;28mstr\u001b[39m) \u001b[38;5;28;01mfor\u001b[39;00m label \u001b[38;5;129;01min\u001b[39;00m ys_labels)) \u001b[38;5;241m>\u001b[39m \u001b[38;5;241m1\u001b[39m:\n\u001b[0;32m--> 116\u001b[0m     \u001b[38;5;28;01mraise\u001b[39;00m \u001b[38;5;167;01mValueError\u001b[39;00m(\u001b[38;5;124m\"\u001b[39m\u001b[38;5;124mMix of label input types (string and number)\u001b[39m\u001b[38;5;124m\"\u001b[39m)\n\u001b[1;32m    118\u001b[0m \u001b[38;5;28;01mreturn\u001b[39;00m xp\u001b[38;5;241m.\u001b[39masarray(\u001b[38;5;28msorted\u001b[39m(ys_labels))\n",
      "\u001b[0;31mValueError\u001b[0m: Mix of label input types (string and number)"
     ]
    }
   ],
   "source": [
    "\n",
    "\n",
    "def show_confusion_matrix(confusion_matrix):\n",
    "    hmap = sns.heatmap(confusion_matrix, annot=True, fmt=\"d\", cmap=\"Blues\")\n",
    "    hmap.yaxis.set_ticklabels(hmap.yaxis.get_ticklabels(), rotation=0, ha='right')\n",
    "    hmap.xaxis.set_ticklabels(hmap.xaxis.get_ticklabels(), rotation=30, ha='right')\n",
    "    plt.ylabel('True sentiment')\n",
    "    plt.xlabel('Predicted sentiment')\n",
    "\n",
    "cm = confusion_matrix(y_ids, y_pred)\n",
    "df_cm = pd.DataFrame(cm, index=unique_authors, columns=unique_authors)\n",
    "show_confusion_matrix(df_cm)\n",
    "\n"
   ]
  },
  {
   "cell_type": "code",
   "execution_count": 142,
   "metadata": {},
   "outputs": [
    {
     "name": "stdout",
     "output_type": "stream",
     "text": [
      "           id       EAP       HPL       MWS\n",
      "0     id06617  8.333536 -3.732450 -3.290669\n",
      "1     id22789 -4.320556 -4.206328  8.130929\n",
      "2     id15726 -4.315736 -4.263460  8.090265\n",
      "3     id19077 -4.007131  8.218512 -3.625121\n",
      "4     id27537  8.471301 -4.089209 -3.262084\n",
      "...       ...       ...       ...       ...\n",
      "8387  id00335  8.347522 -4.157529 -2.928862\n",
      "8388  id07054 -4.042836 -4.528657  7.536205\n",
      "8389  id19578  8.526666 -3.780602 -3.477422\n",
      "8390  id22422  8.453132 -3.574438 -3.551195\n",
      "8391  id15215 -4.006074  8.351609 -3.855753\n",
      "\n",
      "[8392 rows x 4 columns]\n"
     ]
    }
   ],
   "source": [
    "data_dict = {\n",
    "    'id': y_ids,\n",
    "    'EAP': y_pred_probs[:, 0],  # Assuming the first column corresponds to class 'EAP'\n",
    "    'HPL': y_pred_probs[:, 1],  # Assuming the second column corresponds to class 'HPL'\n",
    "    'MWS': y_pred_probs[:, 2]   # Assuming the third column corresponds to class 'MWS'\n",
    "}\n",
    "\n",
    "# Create DataFrame\n",
    "df = pd.DataFrame(data_dict)\n",
    "\n",
    "# Display the DataFrame\n",
    "print(df)"
   ]
  },
  {
   "cell_type": "code",
   "execution_count": 144,
   "metadata": {},
   "outputs": [],
   "source": [
    "df.to_csv('submission.csv')"
   ]
  },
  {
   "cell_type": "code",
   "execution_count": null,
   "metadata": {},
   "outputs": [],
   "source": []
  }
 ],
 "metadata": {
  "kernelspec": {
   "display_name": "auth_idt",
   "language": "python",
   "name": "python3"
  },
  "language_info": {
   "codemirror_mode": {
    "name": "ipython",
    "version": 3
   },
   "file_extension": ".py",
   "mimetype": "text/x-python",
   "name": "python",
   "nbconvert_exporter": "python",
   "pygments_lexer": "ipython3",
   "version": "3.12.3"
  }
 },
 "nbformat": 4,
 "nbformat_minor": 2
}
