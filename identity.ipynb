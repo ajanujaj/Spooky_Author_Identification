{
 "cells": [
  {
   "cell_type": "code",
   "execution_count": 12,
   "metadata": {},
   "outputs": [],
   "source": [
    "import pandas as pd\n",
    "import numpy as np\n",
    "import matplotlib.pyplot as plt\n",
    "import xgboost as xgb\n",
    "from sklearn.feature_extraction.text import CountVectorizer, TfidfVectorizer,TfidfTransformer\n",
    "from sklearn.preprocessing import LabelEncoder\n",
    "from sklearn.model_selection import train_test_split\n",
    "from sklearn.linear_model import LogisticRegression\n",
    "from sklearn.metrics import mean_squared_error,classification_report,confusion_matrix\n",
    "from sklearn.model_selection import GridSearchCV"
   ]
  },
  {
   "cell_type": "markdown",
   "metadata": {},
   "source": [
    "# Using TF-IDF"
   ]
  },
  {
   "cell_type": "markdown",
   "metadata": {},
   "source": [
    "$$\n",
    "TF = \\frac{{\\text{{number of instances of a word in a document}}}}{{\\text{{total number of words in a document}}}}\n",
    "$$\n",
    "\n",
    "\n",
    "$$\n",
    "IDF = log \\frac{{\\text{{total number of documents (N) in text corpus D}}}}{{\\text{{number of documents containg w}}}}\n",
    "$$"
   ]
  },
  {
   "cell_type": "code",
   "execution_count": 13,
   "metadata": {},
   "outputs": [],
   "source": [
    "df = pd.read_csv('Dataset/train.csv')"
   ]
  },
  {
   "cell_type": "code",
   "execution_count": 14,
   "metadata": {},
   "outputs": [
    {
     "data": {
      "text/html": [
       "<div>\n",
       "<style scoped>\n",
       "    .dataframe tbody tr th:only-of-type {\n",
       "        vertical-align: middle;\n",
       "    }\n",
       "\n",
       "    .dataframe tbody tr th {\n",
       "        vertical-align: top;\n",
       "    }\n",
       "\n",
       "    .dataframe thead th {\n",
       "        text-align: right;\n",
       "    }\n",
       "</style>\n",
       "<table border=\"1\" class=\"dataframe\">\n",
       "  <thead>\n",
       "    <tr style=\"text-align: right;\">\n",
       "      <th></th>\n",
       "      <th>id</th>\n",
       "      <th>text</th>\n",
       "      <th>author</th>\n",
       "    </tr>\n",
       "  </thead>\n",
       "  <tbody>\n",
       "    <tr>\n",
       "      <th>0</th>\n",
       "      <td>id26305</td>\n",
       "      <td>This process, however, afforded me no means of...</td>\n",
       "      <td>EAP</td>\n",
       "    </tr>\n",
       "    <tr>\n",
       "      <th>1</th>\n",
       "      <td>id17569</td>\n",
       "      <td>It never once occurred to me that the fumbling...</td>\n",
       "      <td>HPL</td>\n",
       "    </tr>\n",
       "    <tr>\n",
       "      <th>2</th>\n",
       "      <td>id11008</td>\n",
       "      <td>In his left hand was a gold snuff box, from wh...</td>\n",
       "      <td>EAP</td>\n",
       "    </tr>\n",
       "    <tr>\n",
       "      <th>3</th>\n",
       "      <td>id27763</td>\n",
       "      <td>How lovely is spring As we looked from Windsor...</td>\n",
       "      <td>MWS</td>\n",
       "    </tr>\n",
       "    <tr>\n",
       "      <th>4</th>\n",
       "      <td>id12958</td>\n",
       "      <td>Finding nothing else, not even gold, the Super...</td>\n",
       "      <td>HPL</td>\n",
       "    </tr>\n",
       "    <tr>\n",
       "      <th>...</th>\n",
       "      <td>...</td>\n",
       "      <td>...</td>\n",
       "      <td>...</td>\n",
       "    </tr>\n",
       "    <tr>\n",
       "      <th>19574</th>\n",
       "      <td>id17718</td>\n",
       "      <td>I could have fancied, while I looked at it, th...</td>\n",
       "      <td>EAP</td>\n",
       "    </tr>\n",
       "    <tr>\n",
       "      <th>19575</th>\n",
       "      <td>id08973</td>\n",
       "      <td>The lids clenched themselves together as if in...</td>\n",
       "      <td>EAP</td>\n",
       "    </tr>\n",
       "    <tr>\n",
       "      <th>19576</th>\n",
       "      <td>id05267</td>\n",
       "      <td>Mais il faut agir that is to say, a Frenchman ...</td>\n",
       "      <td>EAP</td>\n",
       "    </tr>\n",
       "    <tr>\n",
       "      <th>19577</th>\n",
       "      <td>id17513</td>\n",
       "      <td>For an item of news like this, it strikes us i...</td>\n",
       "      <td>EAP</td>\n",
       "    </tr>\n",
       "    <tr>\n",
       "      <th>19578</th>\n",
       "      <td>id00393</td>\n",
       "      <td>He laid a gnarled claw on my shoulder, and it ...</td>\n",
       "      <td>HPL</td>\n",
       "    </tr>\n",
       "  </tbody>\n",
       "</table>\n",
       "<p>19579 rows × 3 columns</p>\n",
       "</div>"
      ],
      "text/plain": [
       "            id                                               text author\n",
       "0      id26305  This process, however, afforded me no means of...    EAP\n",
       "1      id17569  It never once occurred to me that the fumbling...    HPL\n",
       "2      id11008  In his left hand was a gold snuff box, from wh...    EAP\n",
       "3      id27763  How lovely is spring As we looked from Windsor...    MWS\n",
       "4      id12958  Finding nothing else, not even gold, the Super...    HPL\n",
       "...        ...                                                ...    ...\n",
       "19574  id17718  I could have fancied, while I looked at it, th...    EAP\n",
       "19575  id08973  The lids clenched themselves together as if in...    EAP\n",
       "19576  id05267  Mais il faut agir that is to say, a Frenchman ...    EAP\n",
       "19577  id17513  For an item of news like this, it strikes us i...    EAP\n",
       "19578  id00393  He laid a gnarled claw on my shoulder, and it ...    HPL\n",
       "\n",
       "[19579 rows x 3 columns]"
      ]
     },
     "execution_count": 14,
     "metadata": {},
     "output_type": "execute_result"
    }
   ],
   "source": [
    "df"
   ]
  },
  {
   "cell_type": "code",
   "execution_count": 15,
   "metadata": {},
   "outputs": [],
   "source": [
    "lbl_enc = LabelEncoder()\n",
    "y = lbl_enc.fit_transform(df['author'])"
   ]
  },
  {
   "cell_type": "code",
   "execution_count": 16,
   "metadata": {},
   "outputs": [
    {
     "data": {
      "text/plain": [
       "array([0, 1, 2])"
      ]
     },
     "execution_count": 16,
     "metadata": {},
     "output_type": "execute_result"
    }
   ],
   "source": [
    "np.unique(y)"
   ]
  },
  {
   "cell_type": "code",
   "execution_count": 17,
   "metadata": {},
   "outputs": [],
   "source": [
    "## This stratify parameter makes a split so that the proportion of values in the sample produced will be the same as the proportion of values\n",
    "x_train,x_val, y_train,y_val = train_test_split(df['text'],y,stratify=y,test_size=0.1,shuffle=True)"
   ]
  },
  {
   "cell_type": "code",
   "execution_count": 18,
   "metadata": {},
   "outputs": [
    {
     "name": "stdout",
     "output_type": "stream",
     "text": [
      "(17621,)\n",
      "(1958,)\n"
     ]
    }
   ],
   "source": [
    "print(x_train.shape)\n",
    "print(x_val.shape)"
   ]
  },
  {
   "cell_type": "markdown",
   "metadata": {},
   "source": [
    "`CountVectorizer`, `TfidfVectorizer`, and `TfidfTransformer` are all tools commonly used in natural language processing (NLP) pipelines, but they serve slightly different purposes. Here's how they can be used together or standalone:\n",
    "\n",
    "1. **CountVectorizer**:\n",
    "   - Standalone: CountVectorizer is used to convert a collection of text documents into a matrix of token counts, where each row represents a document and each column represents a word, with each cell indicating the count of the corresponding word in the document.\n",
    "   - Together: CountVectorizer can be used as the initial step in preprocessing text data, followed by using either `TfidfTransformer` or `TfidfVectorizer` to convert the count matrix into a TF-IDF (Term Frequency-Inverse Document Frequency) weighted representation.\n",
    "\n",
    "2. **TfidfVectorizer**:\n",
    "   - Standalone: TfidfVectorizer combines the functionality of CountVectorizer and TfidfTransformer into a single step. It first tokenizes the text and counts occurrences of each token like CountVectorizer, then it transforms the count matrix into a TF-IDF representation like TfidfTransformer.\n",
    "   - Together: TfidfVectorizer can be used as a replacement for CountVectorizer and TfidfTransformer together, simplifying the preprocessing pipeline.\n",
    "\n",
    "3. **TfidfTransformer**:\n",
    "   - Standalone: TfidfTransformer is used to transform a count matrix (obtained from CountVectorizer or similar methods) into a TF-IDF representation. It weighs the importance of each word in the document relative to the entire corpus.\n",
    "   - Together: TfidfTransformer is typically used after CountVectorizer to convert the count matrix into a TF-IDF representation.\n",
    "\n",
    "In summary, here's how they can be used:\n",
    "- **CountVectorizer**: Converts text into a count matrix.\n",
    "- **TfidfVectorizer**: Combines CountVectorizer and TfidfTransformer into one step, producing a TF-IDF representation directly from raw text.\n",
    "- **TfidfTransformer**: Converts a count matrix into a TF-IDF representation, typically used after CountVectorizer. \n",
    "\n",
    "You can choose to use them standalone or in combination based on the specific requirements and complexity of your NLP task. If you need a simple preprocessing pipeline, you can use `TfidfVectorizer`. If you need more control over the preprocessing steps, you can use `CountVectorizer` followed by `TfidfTransformer`."
   ]
  },
  {
   "cell_type": "code",
   "execution_count": 19,
   "metadata": {},
   "outputs": [],
   "source": [
    "tfb = TfidfVectorizer(min_df=3,max_features=None,strip_accents='unicode',analyzer='word',token_pattern=r'\\w{1,}',\n",
    "                      ngram_range=(1,5),use_idf=True,smooth_idf=True,sublinear_tf=True,stop_words='english')\n",
    "\n",
    "tfb.fit(list(x_train)+list(x_val))\n",
    "x_train_tfb = tfb.transform(x_train)\n",
    "x_val_tfb = tfb.transform(x_val)"
   ]
  },
  {
   "cell_type": "code",
   "execution_count": 20,
   "metadata": {},
   "outputs": [],
   "source": [
    "def final_result(y_pred_prob,y_pred,x_val,y_val):\n",
    "    print(y_val)\n",
    "    mse_loss = mean_squared_error(y_pred,y_val)\n",
    "    print(f'MSE loss: {mse_loss}')\n",
    "    print(classification_report(y_val, y_pred, target_names=['0', '1','2']))\n",
    "    table_submis = pd.DataFrame(y_pred_prob, columns=['EAP', 'MWS', 'HPL'])\n",
    "    table_submis['id'] = df.loc[x_val.index,'id'].values\n",
    "    table_submis = table_submis[['id','EAP','HPL','MWS']]\n",
    "\n",
    "    result_df = pd.DataFrame({'Index': df.loc[x_val.index,'id'],'text':x_val, 'Predicted Label': lbl_enc.inverse_transform(y_pred), 'Actual Label': lbl_enc.inverse_transform(y_val)})\n",
    "    return table_submis, result_df\n"
   ]
  },
  {
   "cell_type": "code",
   "execution_count": 21,
   "metadata": {},
   "outputs": [
    {
     "name": "stderr",
     "output_type": "stream",
     "text": [
      "/Users/anujjain/anaconda3/lib/python3.10/site-packages/sklearn/linear_model/_logistic.py:458: ConvergenceWarning: lbfgs failed to converge (status=1):\n",
      "STOP: TOTAL NO. of ITERATIONS REACHED LIMIT.\n",
      "\n",
      "Increase the number of iterations (max_iter) or scale the data as shown in:\n",
      "    https://scikit-learn.org/stable/modules/preprocessing.html\n",
      "Please also refer to the documentation for alternative solver options:\n",
      "    https://scikit-learn.org/stable/modules/linear_model.html#logistic-regression\n",
      "  n_iter_i = _check_optimize_result(\n"
     ]
    }
   ],
   "source": [
    "### Logistic Regression\n",
    "\n",
    "lg = LogisticRegression()\n",
    "lg.fit(x_train_tfb,y_train)\n",
    "y_pred = lg.predict(x_val_tfb)\n",
    "y_pred_proba = lg.predict_proba(x_val_tfb)\n"
   ]
  },
  {
   "cell_type": "code",
   "execution_count": 22,
   "metadata": {},
   "outputs": [
    {
     "name": "stdout",
     "output_type": "stream",
     "text": [
      "[2 2 0 ... 0 2 1]\n",
      "MSE loss: 0.4703779366700715\n",
      "              precision    recall  f1-score   support\n",
      "\n",
      "           0       0.76      0.85      0.80       790\n",
      "           1       0.83      0.76      0.79       564\n",
      "           2       0.82      0.76      0.79       604\n",
      "\n",
      "    accuracy                           0.80      1958\n",
      "   macro avg       0.81      0.79      0.80      1958\n",
      "weighted avg       0.80      0.80      0.80      1958\n",
      "\n",
      "           id       EAP       HPL       MWS\n",
      "0     id24239  0.020640  0.959664  0.019697\n",
      "1     id22765  0.123976  0.845248  0.030777\n",
      "2     id06298  0.767866  0.158755  0.073379\n",
      "3     id10325  0.262326  0.036366  0.701308\n",
      "4     id26532  0.752308  0.176806  0.070886\n",
      "...       ...       ...       ...       ...\n",
      "1953  id21175  0.921809  0.044164  0.034027\n",
      "1954  id07913  0.452738  0.420180  0.127081\n",
      "1955  id04754  0.546432  0.078788  0.374780\n",
      "1956  id02574  0.841114  0.030806  0.128080\n",
      "1957  id22770  0.194371  0.165192  0.640436\n",
      "\n",
      "[1958 rows x 4 columns]\n"
     ]
    }
   ],
   "source": [
    "table_submis, result_df = final_result(y_pred_proba,y_pred,x_val,y_val)\n",
    "print(table_submis)"
   ]
  },
  {
   "cell_type": "code",
   "execution_count": 23,
   "metadata": {},
   "outputs": [
    {
     "name": "stdout",
     "output_type": "stream",
     "text": [
      "         Index                                               text  \\\n",
      "5144   id24239  Adrian had the superiority in learning and elo...   \n",
      "8125   id22765  Let me hear the sweet tones of your beloved vo...   \n",
      "13261  id06298  They are all, however, fitting tapestry for a ...   \n",
      "6631   id10325  Its two general directions, as I have said, we...   \n",
      "584    id26532  After marriage, however, this gentleman neglec...   \n",
      "...        ...                                                ...   \n",
      "9712   id21175  But it has been suggested that the corpse disc...   \n",
      "10254  id07913                              \"How can I move thee?   \n",
      "18562  id04754  \"Moissart and Voissart\" I repeated, thoughtful...   \n",
      "18720  id02574                             Yet why do I say this?   \n",
      "6467   id22770  So the White Ship sailed on past the walls of ...   \n",
      "\n",
      "      Predicted Label Actual Label  \n",
      "5144              MWS          MWS  \n",
      "8125              MWS          MWS  \n",
      "13261             EAP          EAP  \n",
      "6631              HPL          EAP  \n",
      "584               EAP          EAP  \n",
      "...               ...          ...  \n",
      "9712              EAP          EAP  \n",
      "10254             EAP          MWS  \n",
      "18562             EAP          EAP  \n",
      "18720             EAP          MWS  \n",
      "6467              HPL          HPL  \n",
      "\n",
      "[1958 rows x 4 columns]\n"
     ]
    }
   ],
   "source": [
    "print(result_df)"
   ]
  },
  {
   "cell_type": "code",
   "execution_count": 24,
   "metadata": {},
   "outputs": [],
   "source": [
    "\n",
    "\n",
    "xb = xgb.XGBClassifier()\n",
    "\n",
    "xb.fit(x_train_tfb,y_train)\n",
    "y_pred_prob = xb.predict_proba(x_val_tfb)\n",
    "y_pred = xb.predict(x_val_tfb)\n"
   ]
  },
  {
   "cell_type": "code",
   "execution_count": 25,
   "metadata": {},
   "outputs": [
    {
     "name": "stdout",
     "output_type": "stream",
     "text": [
      "[2 2 0 ... 0 2 1]\n",
      "MSE loss: 0.7563840653728294\n",
      "              precision    recall  f1-score   support\n",
      "\n",
      "           0       0.61      0.87      0.71       790\n",
      "           1       0.75      0.56      0.64       564\n",
      "           2       0.79      0.53      0.64       604\n",
      "\n",
      "    accuracy                           0.68      1958\n",
      "   macro avg       0.71      0.65      0.66      1958\n",
      "weighted avg       0.70      0.68      0.67      1958\n",
      "\n",
      "           id       EAP       HPL       MWS\n",
      "0     id24239  0.020640  0.959664  0.019697\n",
      "1     id22765  0.123976  0.845248  0.030777\n",
      "2     id06298  0.767866  0.158755  0.073379\n",
      "3     id10325  0.262326  0.036366  0.701308\n",
      "4     id26532  0.752308  0.176806  0.070886\n",
      "...       ...       ...       ...       ...\n",
      "1953  id21175  0.921809  0.044164  0.034027\n",
      "1954  id07913  0.452738  0.420180  0.127081\n",
      "1955  id04754  0.546432  0.078788  0.374780\n",
      "1956  id02574  0.841114  0.030806  0.128080\n",
      "1957  id22770  0.194371  0.165192  0.640436\n",
      "\n",
      "[1958 rows x 4 columns]\n"
     ]
    }
   ],
   "source": [
    "table_submis, result_df = final_result(y_pred_proba,y_pred,x_val,y_val)\n",
    "print(table_submis)\n"
   ]
  },
  {
   "cell_type": "code",
   "execution_count": 26,
   "metadata": {},
   "outputs": [
    {
     "name": "stdout",
     "output_type": "stream",
     "text": [
      "         Index                                               text  \\\n",
      "5144   id24239  Adrian had the superiority in learning and elo...   \n",
      "8125   id22765  Let me hear the sweet tones of your beloved vo...   \n",
      "13261  id06298  They are all, however, fitting tapestry for a ...   \n",
      "6631   id10325  Its two general directions, as I have said, we...   \n",
      "584    id26532  After marriage, however, this gentleman neglec...   \n",
      "...        ...                                                ...   \n",
      "9712   id21175  But it has been suggested that the corpse disc...   \n",
      "10254  id07913                              \"How can I move thee?   \n",
      "18562  id04754  \"Moissart and Voissart\" I repeated, thoughtful...   \n",
      "18720  id02574                             Yet why do I say this?   \n",
      "6467   id22770  So the White Ship sailed on past the walls of ...   \n",
      "\n",
      "      Predicted Label Actual Label  \n",
      "5144              MWS          MWS  \n",
      "8125              MWS          MWS  \n",
      "13261             EAP          EAP  \n",
      "6631              HPL          EAP  \n",
      "584               EAP          EAP  \n",
      "...               ...          ...  \n",
      "9712              EAP          EAP  \n",
      "10254             EAP          MWS  \n",
      "18562             HPL          EAP  \n",
      "18720             EAP          MWS  \n",
      "6467              HPL          HPL  \n",
      "\n",
      "[1958 rows x 4 columns]\n"
     ]
    }
   ],
   "source": [
    "\n",
    "print(result_df)\n"
   ]
  },
  {
   "cell_type": "code",
   "execution_count": 27,
   "metadata": {},
   "outputs": [],
   "source": [
    "test = pd.read_csv('Dataset/test.csv')"
   ]
  },
  {
   "cell_type": "code",
   "execution_count": 28,
   "metadata": {},
   "outputs": [],
   "source": [
    "### Unseen data\n",
    "x_test = test['text']\n",
    "x_test_tfb = tfb.transform(test['text'])\n"
   ]
  },
  {
   "cell_type": "code",
   "execution_count": 29,
   "metadata": {},
   "outputs": [],
   "source": [
    "y_pred = lg.predict(x_test_tfb)\n",
    "y_pred_proba = lg.predict_proba(x_test_tfb)"
   ]
  },
  {
   "cell_type": "code",
   "execution_count": 30,
   "metadata": {},
   "outputs": [
    {
     "data": {
      "text/plain": [
       "(8392, 3)"
      ]
     },
     "execution_count": 30,
     "metadata": {},
     "output_type": "execute_result"
    }
   ],
   "source": [
    "y_pred_proba.shape"
   ]
  },
  {
   "cell_type": "code",
   "execution_count": 31,
   "metadata": {},
   "outputs": [],
   "source": [
    "def unseen_final_result(y_pred_prob,y_pred,x_test):\n",
    "    table_submis = pd.DataFrame(y_pred_prob, columns=['EAP', 'MWS', 'HPL'])\n",
    "    table_submis['id'] = test.loc[x_test.index,'id'].values\n",
    "    table_submis = table_submis[['id','EAP','HPL','MWS']]\n",
    "\n",
    "    result_df = pd.DataFrame({'Index': test.loc[x_test.index,'id'],'text':x_test, 'Predicted Label': lbl_enc.inverse_transform(y_pred)})\n",
    "\n",
    "    return table_submis, result_df"
   ]
  },
  {
   "cell_type": "code",
   "execution_count": 32,
   "metadata": {},
   "outputs": [],
   "source": [
    "table_submis, result_df = unseen_final_result(y_pred_proba,y_pred,x_test)"
   ]
  },
  {
   "cell_type": "code",
   "execution_count": 33,
   "metadata": {},
   "outputs": [
    {
     "data": {
      "text/html": [
       "<div>\n",
       "<style scoped>\n",
       "    .dataframe tbody tr th:only-of-type {\n",
       "        vertical-align: middle;\n",
       "    }\n",
       "\n",
       "    .dataframe tbody tr th {\n",
       "        vertical-align: top;\n",
       "    }\n",
       "\n",
       "    .dataframe thead th {\n",
       "        text-align: right;\n",
       "    }\n",
       "</style>\n",
       "<table border=\"1\" class=\"dataframe\">\n",
       "  <thead>\n",
       "    <tr style=\"text-align: right;\">\n",
       "      <th></th>\n",
       "      <th>Index</th>\n",
       "      <th>text</th>\n",
       "      <th>Predicted Label</th>\n",
       "    </tr>\n",
       "  </thead>\n",
       "  <tbody>\n",
       "    <tr>\n",
       "      <th>0</th>\n",
       "      <td>id02310</td>\n",
       "      <td>Still, as I urged our leaving Ireland with suc...</td>\n",
       "      <td>MWS</td>\n",
       "    </tr>\n",
       "    <tr>\n",
       "      <th>1</th>\n",
       "      <td>id24541</td>\n",
       "      <td>If a fire wanted fanning, it could readily be ...</td>\n",
       "      <td>EAP</td>\n",
       "    </tr>\n",
       "    <tr>\n",
       "      <th>2</th>\n",
       "      <td>id00134</td>\n",
       "      <td>And when they had broken down the frail door t...</td>\n",
       "      <td>EAP</td>\n",
       "    </tr>\n",
       "    <tr>\n",
       "      <th>3</th>\n",
       "      <td>id27757</td>\n",
       "      <td>While I was thinking how I should possibly man...</td>\n",
       "      <td>EAP</td>\n",
       "    </tr>\n",
       "    <tr>\n",
       "      <th>4</th>\n",
       "      <td>id04081</td>\n",
       "      <td>I am not sure to what limit his knowledge may ...</td>\n",
       "      <td>EAP</td>\n",
       "    </tr>\n",
       "    <tr>\n",
       "      <th>...</th>\n",
       "      <td>...</td>\n",
       "      <td>...</td>\n",
       "      <td>...</td>\n",
       "    </tr>\n",
       "    <tr>\n",
       "      <th>8387</th>\n",
       "      <td>id11749</td>\n",
       "      <td>All this is now the fitter for my purpose.</td>\n",
       "      <td>MWS</td>\n",
       "    </tr>\n",
       "    <tr>\n",
       "      <th>8388</th>\n",
       "      <td>id10526</td>\n",
       "      <td>I fixed myself on a wide solitude.</td>\n",
       "      <td>MWS</td>\n",
       "    </tr>\n",
       "    <tr>\n",
       "      <th>8389</th>\n",
       "      <td>id13477</td>\n",
       "      <td>It is easily understood that what might improv...</td>\n",
       "      <td>EAP</td>\n",
       "    </tr>\n",
       "    <tr>\n",
       "      <th>8390</th>\n",
       "      <td>id13761</td>\n",
       "      <td>Be this as it may, I now began to feel the ins...</td>\n",
       "      <td>MWS</td>\n",
       "    </tr>\n",
       "    <tr>\n",
       "      <th>8391</th>\n",
       "      <td>id04282</td>\n",
       "      <td>Long winded, statistical, and drearily genealo...</td>\n",
       "      <td>HPL</td>\n",
       "    </tr>\n",
       "  </tbody>\n",
       "</table>\n",
       "<p>8392 rows × 3 columns</p>\n",
       "</div>"
      ],
      "text/plain": [
       "        Index                                               text  \\\n",
       "0     id02310  Still, as I urged our leaving Ireland with suc...   \n",
       "1     id24541  If a fire wanted fanning, it could readily be ...   \n",
       "2     id00134  And when they had broken down the frail door t...   \n",
       "3     id27757  While I was thinking how I should possibly man...   \n",
       "4     id04081  I am not sure to what limit his knowledge may ...   \n",
       "...       ...                                                ...   \n",
       "8387  id11749         All this is now the fitter for my purpose.   \n",
       "8388  id10526                 I fixed myself on a wide solitude.   \n",
       "8389  id13477  It is easily understood that what might improv...   \n",
       "8390  id13761  Be this as it may, I now began to feel the ins...   \n",
       "8391  id04282  Long winded, statistical, and drearily genealo...   \n",
       "\n",
       "     Predicted Label  \n",
       "0                MWS  \n",
       "1                EAP  \n",
       "2                EAP  \n",
       "3                EAP  \n",
       "4                EAP  \n",
       "...              ...  \n",
       "8387             MWS  \n",
       "8388             MWS  \n",
       "8389             EAP  \n",
       "8390             MWS  \n",
       "8391             HPL  \n",
       "\n",
       "[8392 rows x 3 columns]"
      ]
     },
     "execution_count": 33,
     "metadata": {},
     "output_type": "execute_result"
    }
   ],
   "source": [
    "result_df"
   ]
  },
  {
   "cell_type": "code",
   "execution_count": null,
   "metadata": {},
   "outputs": [],
   "source": []
  },
  {
   "cell_type": "markdown",
   "metadata": {},
   "source": [
    "# Bert Implementation"
   ]
  },
  {
   "cell_type": "code",
   "execution_count": 34,
   "metadata": {},
   "outputs": [
    {
     "name": "stderr",
     "output_type": "stream",
     "text": [
      "/Users/anujjain/anaconda3/lib/python3.10/site-packages/tqdm/auto.py:21: TqdmWarning: IProgress not found. Please update jupyter and ipywidgets. See https://ipywidgets.readthedocs.io/en/stable/user_install.html\n",
      "  from .autonotebook import tqdm as notebook_tqdm\n"
     ]
    }
   ],
   "source": [
    "import transformers\n",
    "from transformers import BertModel, BertTokenizer, AdamW, get_linear_schedule_with_warmup\n",
    "import torch\n",
    "from torch import nn, optim\n",
    "from torch.utils.data import Dataset, DataLoader\n",
    "import pandas as pd\n",
    "import pandas as pd\n",
    "import seaborn as sns\n",
    "from collections import defaultdict\n",
    "# Misc.\n",
    "import warnings\n",
    "warnings.filterwarnings('ignore')\n",
    "\n",
    "# Set GPU\n",
    "device = torch.device(\"cuda\" if torch.cuda.is_available() else \"cpu\")"
   ]
  },
  {
   "cell_type": "code",
   "execution_count": 35,
   "metadata": {},
   "outputs": [],
   "source": [
    "df = pd.read_csv('Dataset/train.csv')\n",
    "test = pd.read_csv('Dataset/test.csv')"
   ]
  },
  {
   "cell_type": "code",
   "execution_count": 36,
   "metadata": {},
   "outputs": [],
   "source": [
    "lbl_enc = LabelEncoder()\n",
    "df['author_encoder'] = lbl_enc.fit_transform(df['author'])"
   ]
  },
  {
   "cell_type": "code",
   "execution_count": 37,
   "metadata": {},
   "outputs": [
    {
     "data": {
      "text/html": [
       "<div>\n",
       "<style scoped>\n",
       "    .dataframe tbody tr th:only-of-type {\n",
       "        vertical-align: middle;\n",
       "    }\n",
       "\n",
       "    .dataframe tbody tr th {\n",
       "        vertical-align: top;\n",
       "    }\n",
       "\n",
       "    .dataframe thead th {\n",
       "        text-align: right;\n",
       "    }\n",
       "</style>\n",
       "<table border=\"1\" class=\"dataframe\">\n",
       "  <thead>\n",
       "    <tr style=\"text-align: right;\">\n",
       "      <th></th>\n",
       "      <th>id</th>\n",
       "      <th>text</th>\n",
       "      <th>author</th>\n",
       "      <th>author_encoder</th>\n",
       "    </tr>\n",
       "  </thead>\n",
       "  <tbody>\n",
       "    <tr>\n",
       "      <th>0</th>\n",
       "      <td>id26305</td>\n",
       "      <td>This process, however, afforded me no means of...</td>\n",
       "      <td>EAP</td>\n",
       "      <td>0</td>\n",
       "    </tr>\n",
       "    <tr>\n",
       "      <th>1</th>\n",
       "      <td>id17569</td>\n",
       "      <td>It never once occurred to me that the fumbling...</td>\n",
       "      <td>HPL</td>\n",
       "      <td>1</td>\n",
       "    </tr>\n",
       "    <tr>\n",
       "      <th>2</th>\n",
       "      <td>id11008</td>\n",
       "      <td>In his left hand was a gold snuff box, from wh...</td>\n",
       "      <td>EAP</td>\n",
       "      <td>0</td>\n",
       "    </tr>\n",
       "    <tr>\n",
       "      <th>3</th>\n",
       "      <td>id27763</td>\n",
       "      <td>How lovely is spring As we looked from Windsor...</td>\n",
       "      <td>MWS</td>\n",
       "      <td>2</td>\n",
       "    </tr>\n",
       "    <tr>\n",
       "      <th>4</th>\n",
       "      <td>id12958</td>\n",
       "      <td>Finding nothing else, not even gold, the Super...</td>\n",
       "      <td>HPL</td>\n",
       "      <td>1</td>\n",
       "    </tr>\n",
       "    <tr>\n",
       "      <th>...</th>\n",
       "      <td>...</td>\n",
       "      <td>...</td>\n",
       "      <td>...</td>\n",
       "      <td>...</td>\n",
       "    </tr>\n",
       "    <tr>\n",
       "      <th>19574</th>\n",
       "      <td>id17718</td>\n",
       "      <td>I could have fancied, while I looked at it, th...</td>\n",
       "      <td>EAP</td>\n",
       "      <td>0</td>\n",
       "    </tr>\n",
       "    <tr>\n",
       "      <th>19575</th>\n",
       "      <td>id08973</td>\n",
       "      <td>The lids clenched themselves together as if in...</td>\n",
       "      <td>EAP</td>\n",
       "      <td>0</td>\n",
       "    </tr>\n",
       "    <tr>\n",
       "      <th>19576</th>\n",
       "      <td>id05267</td>\n",
       "      <td>Mais il faut agir that is to say, a Frenchman ...</td>\n",
       "      <td>EAP</td>\n",
       "      <td>0</td>\n",
       "    </tr>\n",
       "    <tr>\n",
       "      <th>19577</th>\n",
       "      <td>id17513</td>\n",
       "      <td>For an item of news like this, it strikes us i...</td>\n",
       "      <td>EAP</td>\n",
       "      <td>0</td>\n",
       "    </tr>\n",
       "    <tr>\n",
       "      <th>19578</th>\n",
       "      <td>id00393</td>\n",
       "      <td>He laid a gnarled claw on my shoulder, and it ...</td>\n",
       "      <td>HPL</td>\n",
       "      <td>1</td>\n",
       "    </tr>\n",
       "  </tbody>\n",
       "</table>\n",
       "<p>19579 rows × 4 columns</p>\n",
       "</div>"
      ],
      "text/plain": [
       "            id                                               text author  \\\n",
       "0      id26305  This process, however, afforded me no means of...    EAP   \n",
       "1      id17569  It never once occurred to me that the fumbling...    HPL   \n",
       "2      id11008  In his left hand was a gold snuff box, from wh...    EAP   \n",
       "3      id27763  How lovely is spring As we looked from Windsor...    MWS   \n",
       "4      id12958  Finding nothing else, not even gold, the Super...    HPL   \n",
       "...        ...                                                ...    ...   \n",
       "19574  id17718  I could have fancied, while I looked at it, th...    EAP   \n",
       "19575  id08973  The lids clenched themselves together as if in...    EAP   \n",
       "19576  id05267  Mais il faut agir that is to say, a Frenchman ...    EAP   \n",
       "19577  id17513  For an item of news like this, it strikes us i...    EAP   \n",
       "19578  id00393  He laid a gnarled claw on my shoulder, and it ...    HPL   \n",
       "\n",
       "       author_encoder  \n",
       "0                   0  \n",
       "1                   1  \n",
       "2                   0  \n",
       "3                   2  \n",
       "4                   1  \n",
       "...               ...  \n",
       "19574               0  \n",
       "19575               0  \n",
       "19576               0  \n",
       "19577               0  \n",
       "19578               1  \n",
       "\n",
       "[19579 rows x 4 columns]"
      ]
     },
     "execution_count": 37,
     "metadata": {},
     "output_type": "execute_result"
    }
   ],
   "source": [
    "df"
   ]
  },
  {
   "cell_type": "code",
   "execution_count": 38,
   "metadata": {},
   "outputs": [
    {
     "name": "stderr",
     "output_type": "stream",
     "text": [
      "Some weights of the model checkpoint at bert-base-cased were not used when initializing BertModel: ['cls.predictions.transform.dense.bias', 'cls.predictions.transform.dense.weight', 'cls.seq_relationship.bias', 'cls.predictions.transform.LayerNorm.bias', 'cls.predictions.transform.LayerNorm.weight', 'cls.seq_relationship.weight', 'cls.predictions.bias']\n",
      "- This IS expected if you are initializing BertModel from the checkpoint of a model trained on another task or with another architecture (e.g. initializing a BertForSequenceClassification model from a BertForPreTraining model).\n",
      "- This IS NOT expected if you are initializing BertModel from the checkpoint of a model that you expect to be exactly identical (initializing a BertForSequenceClassification model from a BertForSequenceClassification model).\n"
     ]
    }
   ],
   "source": [
    "Model = 'bert-base-cased'\n",
    "tokenizer = BertTokenizer.from_pretrained(Model)\n",
    "bert_model = BertModel.from_pretrained(Model)"
   ]
  },
  {
   "cell_type": "code",
   "execution_count": 39,
   "metadata": {},
   "outputs": [],
   "source": [
    "token_lens=[]\n",
    "\n",
    "for txt in df.text:\n",
    "    tokens = tokenizer.encode(txt,max_length=512,truncation=True)\n",
    "    token_lens.append(len(tokens))"
   ]
  },
  {
   "cell_type": "code",
   "execution_count": 40,
   "metadata": {},
   "outputs": [
    {
     "data": {
      "text/plain": [
       "Text(0.5, 0, 'Token count')"
      ]
     },
     "execution_count": 40,
     "metadata": {},
     "output_type": "execute_result"
    },
    {
     "data": {
      "image/png": "[encoded data removed]",
      "text/plain": [
       "<Figure size 640x480 with 1 Axes>"
      ]
     },
     "metadata": {},
     "output_type": "display_data"
    }
   ],
   "source": [
    "# plot the distribution of review lengths \n",
    "sns.distplot(token_lens)\n",
    "plt.xlim([0, 256]);\n",
    "plt.xlabel('Token count')"
   ]
  },
  {
   "cell_type": "code",
   "execution_count": 41,
   "metadata": {},
   "outputs": [],
   "source": [
    "\n",
    "# Most of the reviews seem to contain less than 120 tokens, but we’ll be on the safe side and choose a maximum length of 160.\n",
    "MAX_LEN = 160\n"
   ]
  },
  {
   "cell_type": "code",
   "execution_count": 42,
   "metadata": {},
   "outputs": [],
   "source": [
    "## Dataset\n",
    "class auth_dataset(Dataset):\n",
    "    def __init__(self,txt,authors,tokenizer,max_len):\n",
    "        self.txt = txt\n",
    "        self.authors = authors\n",
    "        self.tokenizer = tokenizer\n",
    "        self.max_len = max_len\n",
    "\n",
    "    \n",
    "    def __len__(self):\n",
    "        return len(self.txt)\n",
    "    \n",
    "    def __getitem__(self,item):\n",
    "        txt = str(self.txt[item])\n",
    "        author = self.authors[item]\n",
    "\n",
    "        encoding = self.tokenizer.encode_plus(\n",
    "            txt,\n",
    "            \n",
    "            add_special_tokens=True,\n",
    "            max_length=self.max_len,\n",
    "            return_token_type_ids=False,\n",
    "            pad_to_max_length=True,\n",
    "            return_attention_mask=True,\n",
    "            truncation=True,\n",
    "            return_tensors='pt',\n",
    "\n",
    "        )\n",
    "        return {\n",
    "            'txt':txt,\n",
    "            'input_id':encoding['input_ids'].flatten(),\n",
    "            'attention_mask':encoding['attention_mask'].flatten(),\n",
    "            'authors': torch.tensor(author,dtype=torch.long)\n",
    "        }\n",
    "\n"
   ]
  },
  {
   "cell_type": "code",
   "execution_count": 43,
   "metadata": {},
   "outputs": [],
   "source": [
    "df_train,df_val = train_test_split(df,test_size=0.2,random_state=42)"
   ]
  },
  {
   "cell_type": "code",
   "execution_count": 44,
   "metadata": {},
   "outputs": [],
   "source": [
    "### Create Dataloader\n",
    "\n",
    "def create_dataloader(df, batch_size,max_len, num_workers,shuffle=True):\n",
    "    ds = auth_dataset(\n",
    "        txt = df.text.to_numpy(),\n",
    "        authors=df.author_encoder.to_numpy(),\n",
    "        tokenizer=tokenizer,\n",
    "        max_len=max_len,\n",
    "    )\n",
    "\n",
    "    return DataLoader(\n",
    "        ds,\n",
    "        batch_size=batch_size,\n",
    "        shuffle=shuffle,\n",
    "        num_workers=num_workers,\n",
    "        pin_memory=True,\n",
    "    )"
   ]
  },
  {
   "cell_type": "code",
   "execution_count": 45,
   "metadata": {},
   "outputs": [],
   "source": [
    "BATCH_SIZE = 16\n",
    "Num_workers = 0\n",
    "train_data_loader = create_dataloader(df_train, BATCH_SIZE,MAX_LEN, Num_workers, shuffle=True)\n",
    "val_data_loader = create_dataloader(df_val, BATCH_SIZE,MAX_LEN, Num_workers, shuffle=True)"
   ]
  },
  {
   "cell_type": "code",
   "execution_count": 46,
   "metadata": {},
   "outputs": [
    {
     "name": "stdout",
     "output_type": "stream",
     "text": [
      "dict_keys(['txt', 'input_id', 'attention_mask', 'authors'])\n",
      "tensor([[  101,  1109, 13874,  ...,     0,     0,     0],\n",
      "        [  101,  1124,  1108,  ...,     0,     0,     0],\n",
      "        [  101, 13197,  1122,  ...,     0,     0,     0],\n",
      "        ...,\n",
      "        [  101, 25893,  1181,  ...,     0,     0,     0],\n",
      "        [  101,   107, 10779,  ...,     0,     0,     0],\n",
      "        [  101,  1109,  2915,  ...,     0,     0,     0]])\n",
      "tensor([[1, 1, 1,  ..., 0, 0, 0],\n",
      "        [1, 1, 1,  ..., 0, 0, 0],\n",
      "        [1, 1, 1,  ..., 0, 0, 0],\n",
      "        ...,\n",
      "        [1, 1, 1,  ..., 0, 0, 0],\n",
      "        [1, 1, 1,  ..., 0, 0, 0],\n",
      "        [1, 1, 1,  ..., 0, 0, 0]])\n",
      "tensor([0, 2, 1, 0, 0, 0, 1, 1, 2, 1, 2, 1, 1, 2, 2, 2])\n"
     ]
    }
   ],
   "source": [
    "data = next(iter(train_data_loader))\n",
    "print(data.keys())\n",
    "\n",
    "# print(data['txt'])\n",
    "print(data['input_id'])\n",
    "print(data['attention_mask'])\n",
    "print(data['authors'])"
   ]
  },
  {
   "cell_type": "code",
   "execution_count": 47,
   "metadata": {},
   "outputs": [],
   "source": [
    "### Sentiment Classifier\n",
    "class SentimentClassifier(nn.Module):\n",
    "    \n",
    "    def __init__(self,n_classes):\n",
    "        super(SentimentClassifier,self).__init__()\n",
    "        self.bert = bert_model\n",
    "        self.drop = nn.Dropout(p=0.3)\n",
    "        self.out = nn.Linear(self.bert.config.hidden_size,n_classes)\n",
    "    \n",
    "    def forward(self,input_ids,attention_mask):\n",
    "        pooled_output = self.bert(\n",
    "        input_ids=input_ids,\n",
    "        attention_mask=attention_mask\n",
    "    )[1] \n",
    "\n",
    "        output = self.drop(pooled_output)\n",
    "        return self.out(output)\n",
    "                           "
   ]
  },
  {
   "cell_type": "code",
   "execution_count": 48,
   "metadata": {},
   "outputs": [
    {
     "name": "stdout",
     "output_type": "stream",
     "text": [
      "['EAP' 'HPL' 'MWS']\n",
      "768\n"
     ]
    }
   ],
   "source": [
    "unique_authors = df['author'].unique()\n",
    "print(unique_authors)\n",
    "\n",
    "\n",
    "model = SentimentClassifier(len(unique_authors))\n",
    "model = model.to(device)\n",
    "\n",
    "# Number of hidden units\n",
    "print(bert_model.config.hidden_size)"
   ]
  },
  {
   "cell_type": "code",
   "execution_count": 49,
   "metadata": {},
   "outputs": [],
   "source": [
    "Epoch=10\n",
    "optim = AdamW(model.parameters(),lr=2e-5,correct_bias=False)\n",
    "\n",
    "total_step = len(train_data_loader)*Epoch\n",
    "\n",
    "scheduler = get_linear_schedule_with_warmup(optim,\n",
    "                                            num_warmup_steps=0,\n",
    "                                            num_training_steps=total_step)\n",
    "\n",
    "loss_fn= nn.CrossEntropyLoss().to(device)"
   ]
  },
  {
   "cell_type": "code",
   "execution_count": 50,
   "metadata": {},
   "outputs": [],
   "source": [
    "def train_epoch(model,data_loader,loss_fn,optim,device,scheduler,n_examples):\n",
    "    model = model.train()\n",
    "    losses = []\n",
    "    correct_pred =0\n",
    "\n",
    "    for d in data_loader:\n",
    "        input_ids = d[\"input_id\"].to(device)\n",
    "        attention_mask = d[\"attention_mask\"].to(device)\n",
    "        authors = d['authors'].to(device)\n",
    "\n",
    "        outputs = model(\n",
    "            input_ids = input_ids,\n",
    "            attention_mask = attention_mask\n",
    "        )\n",
    "\n",
    "        _,pred = torch.max(outputs,dim=1)\n",
    "        loss = loss_fn(outputs,authors)\n",
    "        correct_pred += torch.sum(pred == authors)\n",
    "        losses.append(loss.item())\n",
    "\n",
    "        loss.backward()\n",
    "\n",
    "        nn.utils.clip_grad_norm_(model.parameters(),max_norm=1.0)\n",
    "        optim.step()\n",
    "        scheduler.step()\n",
    "        optim.zero_grad() \n",
    "        \n",
    "\n",
    "    return correct_pred.double()/n_examples, np.mean(losses)"
   ]
  },
  {
   "cell_type": "code",
   "execution_count": 51,
   "metadata": {},
   "outputs": [],
   "source": [
    "def eval_model(model,data_loader, loss_fn,device,n_examples):\n",
    "    model = model.eval()\n",
    "\n",
    "    losses = []\n",
    "    correct_pred = 0 \n",
    "\n",
    "    with torch.no_grad():\n",
    "        for d in data_loader:\n",
    "            input_ids = d[\"input_id\"].to(device)\n",
    "            attention_mask = d[\"attention_mask\"].to(device)\n",
    "            authors = d['authors'].to(device)\n",
    "\n",
    "            # Get model ouptuts\n",
    "            outputs = model(\n",
    "                input_ids=input_ids,\n",
    "                attention_mask=attention_mask\n",
    "            )\n",
    "            \n",
    "            _, preds = torch.max(outputs, dim=1)\n",
    "            loss = loss_fn(outputs, authors)\n",
    "            \n",
    "            correct_pred += torch.sum(preds == authors)\n",
    "            losses.append(loss.item())\n",
    "    return correct_pred.double()/n_examples, np.mean(losses)\n"
   ]
  },
  {
   "cell_type": "code",
   "execution_count": null,
   "metadata": {},
   "outputs": [
    {
     "name": "stdout",
     "output_type": "stream",
     "text": [
      "Epoch 1/10\n",
      "----------\n"
     ]
    }
   ],
   "source": [
    "best_accuracy = 0\n",
    "history = defaultdict(list)\n",
    "for epoch in range(Epoch):\n",
    "    \n",
    "    # Show details \n",
    "    print(f\"Epoch {epoch + 1}/{Epoch}\")\n",
    "    print(\"-\" * 10)\n",
    "    \n",
    "    train_acc, train_loss = train_epoch(\n",
    "        model,\n",
    "        train_data_loader,\n",
    "        loss_fn,\n",
    "        optim,\n",
    "        device,\n",
    "        scheduler,\n",
    "        len(df_train)\n",
    "    )\n",
    "    \n",
    "    print(f\"Train loss {train_loss} accuracy {train_acc}\")\n",
    "    \n",
    "    # Get model performance (accuracy and loss)\n",
    "    val_acc, val_loss = eval_model(\n",
    "        model,\n",
    "        val_data_loader,\n",
    "        loss_fn,\n",
    "        device,\n",
    "        len(df_val)\n",
    "    )\n",
    "    print(f\"Val   loss {val_loss} accuracy {val_acc}\")\n",
    "    print()\n",
    "    \n",
    "    history['train_acc'].append(train_acc)\n",
    "    history['train_loss'].append(train_loss)\n",
    "    history['val_acc'].append(val_acc)\n",
    "    history['val_loss'].append(val_loss)\n",
    "    \n",
    "    # If we beat prev performance\n",
    "    if val_acc > best_accuracy:\n",
    "        torch.save(model.state_dict(), 'best_model_state.bin')\n",
    "        best_accuracy = val_acc"
   ]
  },
  {
   "cell_type": "code",
   "execution_count": null,
   "metadata": {},
   "outputs": [],
   "source": [
    "# Plot training and validation accuracy\n",
    "\n",
    "# Extract scalar values from the tensors and convert to numpy arrays\n",
    "train_acc_np = np.array([item.item() for item in history['train_acc']])\n",
    "val_acc_np = np.array([item.item() for item in history['val_acc']])\n",
    "\n",
    "\n",
    "plt.plot(train_acc_np, label='train accuracy')\n",
    "plt.plot(val_acc_np, label='validation accuracy')\n",
    "\n",
    "# Graph chars\n",
    "plt.title('Training history')\n",
    "plt.ylabel('Accuracy')\n",
    "plt.xlabel('Epoch')\n",
    "plt.legend()\n",
    "plt.ylim([0, 1])"
   ]
  },
  {
   "cell_type": "code",
   "execution_count": null,
   "metadata": {},
   "outputs": [],
   "source": [
    "### Define a helper function to get predictions from our models. This is similar to the evaluation function, except that we’re storing the text of the reviews and the predicted probabilities\n",
    "\n",
    "def get_pred(model,data_loader):\n",
    "    model = model.eval()\n",
    "\n",
    "    txts =[]\n",
    "    pred = []\n",
    "    pred_prob = []\n",
    "    real_val = []\n",
    "\n",
    "    with torch.no_grad():\n",
    "        for d in data_loader:\n",
    "            input_ids = d[\"input_id\"].to(device)\n",
    "            txt  = d[\"txt\"]\n",
    "            attention_mask = d[\"attention_mask\"].to(device)\n",
    "            authors = d['authors'].to(device)\n",
    "\n",
    "            # Get model ouptuts\n",
    "            outputs = model(\n",
    "                input_ids=input_ids,\n",
    "                attention_mask=attention_mask\n",
    "            )\n",
    "            \n",
    "            _, preds = torch.max(outputs, dim=1)\n",
    "\n",
    "            txts.extend(txt)\n",
    "            pred.extend(preds)\n",
    "            pred_prob.extend(outputs)\n",
    "            real_val.extend(authors)\n",
    "\n",
    "    pred = torch.stack(pred).cpu()\n",
    "    pred_prob = torch.stack(pred_prob).cpu()\n",
    "    real_val = torch.stack(real_val).cpu()\n",
    "\n",
    "    return txts,pred,pred_prob,real_val"
   ]
  },
  {
   "cell_type": "code",
   "execution_count": null,
   "metadata": {},
   "outputs": [],
   "source": [
    "\n",
    "\n",
    "y_review_texts, y_pred, y_pred_probs, y_test = get_pred(\n",
    "    model,\n",
    "    val_data_loader)\n",
    "\n"
   ]
  },
  {
   "cell_type": "code",
   "execution_count": null,
   "metadata": {},
   "outputs": [],
   "source": [
    "y_pred_probs"
   ]
  },
  {
   "cell_type": "code",
   "execution_count": null,
   "metadata": {},
   "outputs": [],
   "source": [
    "print(classification_report(y_test,y_pred,target_names=unique_authors))"
   ]
  },
  {
   "cell_type": "code",
   "execution_count": null,
   "metadata": {},
   "outputs": [],
   "source": [
    "\n",
    "\n",
    "def show_confusion_matrix(confusion_matrix):\n",
    "    hmap = sns.heatmap(confusion_matrix, annot=True, fmt=\"d\", cmap=\"Blues\")\n",
    "    hmap.yaxis.set_ticklabels(hmap.yaxis.get_ticklabels(), rotation=0, ha='right')\n",
    "    hmap.xaxis.set_ticklabels(hmap.xaxis.get_ticklabels(), rotation=30, ha='right')\n",
    "    plt.ylabel('True sentiment')\n",
    "    plt.xlabel('Predicted sentiment')\n",
    "\n",
    "cm = confusion_matrix(y_test, y_pred)\n",
    "df_cm = pd.DataFrame(cm, index=unique_authors, columns=unique_authors)\n",
    "show_confusion_matrix(df_cm)\n",
    "\n"
   ]
  },
  {
   "cell_type": "code",
   "execution_count": null,
   "metadata": {},
   "outputs": [],
   "source": [
    "### Predict raw text\n",
    "review_text = 'It never once occurred to me that the fumbling might be a mere mistake.'"
   ]
  },
  {
   "cell_type": "code",
   "execution_count": null,
   "metadata": {},
   "outputs": [],
   "source": [
    "encoded_view = tokenizer.encode_plus(\n",
    "    review_text,\n",
    "    max_length = MAX_LEN,\n",
    "    add_special_tokens = True,\n",
    "    return_token_type_ids = False,\n",
    "    pad_to_max_length = True,\n",
    "    return_attention_mask = True,\n",
    "    return_tensors = 'pt',\n",
    "    truncation=True\n",
    ")"
   ]
  },
  {
   "cell_type": "code",
   "execution_count": null,
   "metadata": {},
   "outputs": [],
   "source": [
    "encoded_view"
   ]
  },
  {
   "cell_type": "code",
   "execution_count": null,
   "metadata": {},
   "outputs": [],
   "source": [
    "input_ids = encoded_view['input_ids'].to(device)\n",
    "attention_mask = encoded_view['attention_mask'].to(device)\n",
    "\n",
    "output = model (input_ids,attention_mask)\n",
    "_, pred = torch.max(output,dim=1)\n",
    "\n",
    "print(f'Review text: {review_text}')\n",
    "print(f'Sentiment  : {unique_authors[pred]}')"
   ]
  },
  {
   "cell_type": "markdown",
   "metadata": {},
   "source": [
    "### Running Bert on Infernce Dataset"
   ]
  },
  {
   "cell_type": "code",
   "execution_count": null,
   "metadata": {},
   "outputs": [],
   "source": [
    "class unseen_auth_dataset(Dataset):\n",
    "    def __init__(self, txt, id, tokenizer, max_len):\n",
    "        self.txt = txt\n",
    "        self.id = id\n",
    "        self.tokenizer = tokenizer\n",
    "        self.max_len = max_len\n",
    "\n",
    "    def __len__(self):\n",
    "        return len(self.txt)\n",
    "\n",
    "    def __getitem__(self, item):\n",
    "        txt = str(self.txt[item])\n",
    "        id_ = self.id[item]\n",
    "\n",
    "        encoding = self.tokenizer.encode_plus(\n",
    "            txt,\n",
    "            add_special_tokens=True,\n",
    "            max_length=self.max_len,\n",
    "            return_token_type_ids=False,\n",
    "            pad_to_max_length=True,\n",
    "            return_attention_mask=True,\n",
    "            truncation=True,\n",
    "            return_tensors='pt',\n",
    "        )\n",
    "        return {\n",
    "            'id': id_,\n",
    "            'txt': txt,\n",
    "            'input_ids': encoding['input_ids'].flatten(),\n",
    "            'attention_mask': encoding['attention_mask'].flatten(),\n",
    "        }"
   ]
  },
  {
   "cell_type": "code",
   "execution_count": null,
   "metadata": {},
   "outputs": [],
   "source": [
    "def create_unseen_dataloader(df, batch_size, max_len, num_workers, shuffle=True):\n",
    "    ds = unseen_auth_dataset(\n",
    "        txt=df.text.to_numpy(),\n",
    "        id=df.id.to_numpy(),\n",
    "        tokenizer=tokenizer,\n",
    "        max_len=max_len,\n",
    "    )\n",
    "\n",
    "    return DataLoader(\n",
    "        ds,\n",
    "        batch_size=batch_size,\n",
    "        shuffle=shuffle,\n",
    "        num_workers=num_workers,\n",
    "        pin_memory=True,\n",
    "    )\n"
   ]
  },
  {
   "cell_type": "code",
   "execution_count": null,
   "metadata": {},
   "outputs": [],
   "source": [
    "unseen_dataset = create_unseen_dataloader(test, BATCH_SIZE, MAX_LEN, Num_workers, shuffle=True)\n"
   ]
  },
  {
   "cell_type": "code",
   "execution_count": null,
   "metadata": {},
   "outputs": [],
   "source": [
    "data_ = next(iter(unseen_dataset))\n",
    "data_.keys()"
   ]
  },
  {
   "cell_type": "code",
   "execution_count": null,
   "metadata": {},
   "outputs": [],
   "source": [
    "def unseen_data_get_pred(model,data_loader):\n",
    "\n",
    "    model = model.eval()\n",
    "    ids = []\n",
    "    txts =[]\n",
    "    pred = []\n",
    "    pred_prob = []\n",
    "\n",
    "    with torch.no_grad():\n",
    "        for d in data_loader:\n",
    "            input_ids = d[\"input_ids\"].to(device)\n",
    "            txt  = d[\"txt\"]\n",
    "            id = d[\"id\"]\n",
    "            attention_mask = d[\"attention_mask\"].to(device)\n",
    "\n",
    "            # Get model ouptuts\n",
    "            outputs = model(\n",
    "                input_ids=input_ids,\n",
    "                attention_mask=attention_mask\n",
    "            )\n",
    "            \n",
    "            _, preds = torch.max(outputs, dim=1)\n",
    "\n",
    "            ids.extend(id)\n",
    "            txts.extend(txt)\n",
    "            pred.extend(preds)\n",
    "            pred_prob.extend(outputs)\n",
    "            \n",
    "\n",
    "    pred = torch.stack(pred).cpu()\n",
    "    pred_prob = torch.stack(pred_prob).cpu()\n",
    "\n",
    "    return txts,pred,pred_prob,ids"
   ]
  },
  {
   "cell_type": "code",
   "execution_count": null,
   "metadata": {},
   "outputs": [],
   "source": [
    "y_review_texts, y_pred, y_pred_probs, y_ids = unseen_data_get_pred(\n",
    "    model,\n",
    "    unseen_dataset)"
   ]
  },
  {
   "cell_type": "code",
   "execution_count": 142,
   "metadata": {},
   "outputs": [
    {
     "name": "stdout",
     "output_type": "stream",
     "text": [
      "           id       EAP       HPL       MWS\n",
      "0     id06617  8.333536 -3.732450 -3.290669\n",
      "1     id22789 -4.320556 -4.206328  8.130929\n",
      "2     id15726 -4.315736 -4.263460  8.090265\n",
      "3     id19077 -4.007131  8.218512 -3.625121\n",
      "4     id27537  8.471301 -4.089209 -3.262084\n",
      "...       ...       ...       ...       ...\n",
      "8387  id00335  8.347522 -4.157529 -2.928862\n",
      "8388  id07054 -4.042836 -4.528657  7.536205\n",
      "8389  id19578  8.526666 -3.780602 -3.477422\n",
      "8390  id22422  8.453132 -3.574438 -3.551195\n",
      "8391  id15215 -4.006074  8.351609 -3.855753\n",
      "\n",
      "[8392 rows x 4 columns]\n"
     ]
    }
   ],
   "source": [
    "data_dict = {\n",
    "    'id': y_ids,\n",
    "    'EAP': y_pred_probs[:, 0],  # Assuming the first column corresponds to class 'EAP'\n",
    "    'HPL': y_pred_probs[:, 1],  # Assuming the second column corresponds to class 'HPL'\n",
    "    'MWS': y_pred_probs[:, 2]   # Assuming the third column corresponds to class 'MWS'\n",
    "}\n",
    "\n",
    "# Create DataFrame\n",
    "df = pd.DataFrame(data_dict)\n",
    "\n",
    "# Display the DataFrame\n",
    "print(df)"
   ]
  },
  {
   "cell_type": "code",
   "execution_count": 144,
   "metadata": {},
   "outputs": [],
   "source": [
    "df.to_csv('submission.csv')"
   ]
  },
  {
   "cell_type": "code",
   "execution_count": null,
   "metadata": {},
   "outputs": [],
   "source": []
  }
 ],
 "metadata": {
  "kernelspec": {
   "display_name": "Python 3 (ipykernel)",
   "language": "python",
   "name": "python3"
  },
  "language_info": {
   "codemirror_mode": {
    "name": "ipython",
    "version": 3
   },
   "file_extension": ".py",
   "mimetype": "text/x-python",
   "name": "python",
   "nbconvert_exporter": "python",
   "pygments_lexer": "ipython3",
   "version": "3.10.13"
  }
 },
 "nbformat": 4,
 "nbformat_minor": 4
}
